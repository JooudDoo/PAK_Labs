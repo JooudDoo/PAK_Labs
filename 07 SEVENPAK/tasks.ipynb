{
 "cells": [
  {
   "cell_type": "code",
   "execution_count": 35,
   "metadata": {},
   "outputs": [],
   "source": [
    "import cv2\n",
    "import os\n",
    "from os.path import join as pjoin\n",
    "from dataclasses import dataclass\n",
    "import random as rand\n",
    "import numpy.random as nrand"
   ]
  },
  {
   "cell_type": "code",
   "execution_count": 36,
   "metadata": {},
   "outputs": [],
   "source": [
    "@dataclass\n",
    "class NailPair:\n",
    "    name : str\n",
    "    img   : cv2.Mat\n",
    "    mask : cv2.Mat\n",
    "\n",
    "    def __repr__(self):\n",
    "        return self.name"
   ]
  },
  {
   "cell_type": "code",
   "execution_count": 37,
   "metadata": {},
   "outputs": [],
   "source": [
    "def resize(pair : NailPair, dsize : tuple[int, int]):\n",
    "    return NailPair(pair.name, cv2.resize(pair.img, dsize), cv2.resize(pair.mask, dsize))\n",
    "\n",
    "def rotate(pair : NailPair) -> NailPair:\n",
    "    angle = rand.randint(0, 360)\n",
    "    height, width, _  = pair.img.shape\n",
    "    rot_mat = cv2.getRotationMatrix2D((height/2, width/2), angle, 1.0)\n",
    "    mask = cv2.warpAffine(pair.mask, rot_mat, (height, width), flags=cv2.INTER_LINEAR)\n",
    "    img = cv2.warpAffine(pair.img, rot_mat, (height, width), flags=cv2.INTER_LINEAR)\n",
    "    return NailPair(pair.name, img, mask)\n",
    "\n",
    "def reflect(pair : NailPair) -> NailPair:\n",
    "    isVertical = bool(rand.randint(0,1))\n",
    "    if isVertical:\n",
    "        return NailPair(pair.name, pair.img[::-1], pair.mask[::-1])\n",
    "    else:\n",
    "        return NailPair(pair.name, pair.img[:,::-1], pair.mask[:,::-1])\n",
    "\n",
    "def crop(pair : NailPair) -> NailPair:\n",
    "    cropSection = nrand.randint(0, pair.img.shape[1]/2, size=4)\n",
    "    return NailPair(pair.name,\n",
    "                    pair.img[cropSection[1]:cropSection[1]+cropSection[3], cropSection[0]:cropSection[0]+cropSection[2]],\n",
    "                    pair.mask[cropSection[1]:cropSection[1]+cropSection[3], cropSection[0]:cropSection[0]+cropSection[2]])\n",
    "\n",
    "def blur(pair : NailPair) -> NailPair:\n",
    "    def blurIt(img : cv2.Mat) -> cv2.Mat:\n",
    "        kernelSize = rand.choice(range(1, 10, 2))\n",
    "        return cv2.medianBlur(cv2.GaussianBlur(img, (kernelSize,kernelSize), kernelSize), kernelSize)\n",
    "    return NailPair(pair.name,\n",
    "                    blurIt(pair.img),\n",
    "                    blurIt(pair.mask))\n"
   ]
  },
  {
   "cell_type": "code",
   "execution_count": 38,
   "metadata": {},
   "outputs": [],
   "source": [
    "def loadImgsWMasks(imagesFolder : str, masksFolder : str) -> list[NailPair]:\n",
    "    nails = []\n",
    "    for name in os.listdir(imagesFolder):\n",
    "        if (os.path.isfile(name)):\n",
    "            continue\n",
    "        image = cv2.imread(pjoin(imagesFolder, name))\n",
    "        mask  = cv2.imread(pjoin(masksFolder, name))\n",
    "        nails.append(NailPair(name, image, mask))\n",
    "    return nails\n",
    "\n",
    "def imgRange(pairs, count) -> NailPair:\n",
    "    for _ in range(count):\n",
    "        yield rand.choice(pairs)\n",
    "    \n",
    "def imgRangeAugmented(pairs : list[NailPair], count : int, augmentations, dsize : tuple[int, int] = (1028, 1028)):\n",
    "    for pair in imgRange(pairs, count):\n",
    "        yield resize(rand.choice(augmentations)(pair), dsize)\n",
    "\n",
    "\n",
    "imagesFolder = \"assets/nails/images\"\n",
    "masksFolder  = \"assets/nails/labels\"\n",
    "\n",
    "nails = loadImgsWMasks(imagesFolder, masksFolder)\n",
    "\n",
    "for m in imgRangeAugmented(nails, count=5, augmentations=[blur, reflect, crop, rotate], dsize=(512,512)):\n",
    "    cv2.imshow(\"Nail\",m.img)\n",
    "    cv2.imshow(\"Mask\",m.mask)\n",
    "    key = cv2.waitKey(0) & 0xff\n",
    "    if key == ord('Q') or key == ord('q') or key == 27:\n",
    "        break\n",
    "\n",
    "cv2.destroyAllWindows()"
   ]
  }
 ],
 "metadata": {
  "kernelspec": {
   "display_name": "venv",
   "language": "python",
   "name": "venv"
  },
  "language_info": {
   "codemirror_mode": {
    "name": "ipython",
    "version": 3
   },
   "file_extension": ".py",
   "mimetype": "text/x-python",
   "name": "python",
   "nbconvert_exporter": "python",
   "pygments_lexer": "ipython3",
   "version": "3.10.2"
  },
  "orig_nbformat": 4,
  "vscode": {
   "interpreter": {
    "hash": "2bb5540981ff831592c6aa62f2db898d3bc49a06a53ad0759f1719132ac7930c"
   }
  }
 },
 "nbformat": 4,
 "nbformat_minor": 2
}
