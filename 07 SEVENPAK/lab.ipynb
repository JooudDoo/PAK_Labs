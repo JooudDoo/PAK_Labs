{
 "cells": [
  {
   "cell_type": "code",
   "execution_count": null,
   "metadata": {},
   "outputs": [],
   "source": [
    "import cv2\n",
    "import numpy as np\n",
    "\n",
    "MIN_DIFF = 50\n",
    "\n",
    "def findImage(mainIMG, subIMG):\n",
    "    global MIN_DIFF\n",
    "    threshold = 0.8\n",
    "    alpha = 0.7\n",
    "    scale = 1.\n",
    "\n",
    "    outIMG = mainIMG.copy()\n",
    "    h_ORIGIN, w_ORIGIN, _ = subIMG.shape\n",
    "\n",
    "    mainIMG_B = cv2.GaussianBlur(cv2.cvtColor(mainIMG, cv2.COLOR_BGR2GRAY), (5,5), 0)\n",
    "    subIMG_B = cv2.GaussianBlur(cv2.cvtColor(subIMG, cv2.COLOR_BGR2GRAY), (5,5), 0)\n",
    "    resized_SUB = subIMG_B.copy()\n",
    "    marks = np.zeros_like(outIMG)\n",
    "    while scale >= 0.3:\n",
    "        h, w = resized_SUB.shape\n",
    "        match = cv2.matchTemplate(mainIMG_B, resized_SUB, cv2.TM_CCORR_NORMED)\n",
    "        locations = np.where(match >= threshold)\n",
    "        prev = (-1,1)\n",
    "        for point in zip(*locations[::-1]):\n",
    "            if abs(point[0] - prev[0]) < MIN_DIFF and abs(point[1] - prev[1]) < MIN_DIFF:\n",
    "                continue\n",
    "            cv2.rectangle(marks, point, (point[0] + w, point[1] + h), (0,0,255), 3)\n",
    "            prev = point\n",
    "        resized_SUB = cv2.resize(subIMG_B, (int(h_ORIGIN*scale), int(w_ORIGIN * scale)), interpolation= cv2.INTER_LINEAR)\n",
    "        scale -= 0.01\n",
    "    \n",
    "    outIMG = cv2.addWeighted(outIMG, alpha, marks, 1-alpha, 0)\n",
    "    return outIMG\n",
    "\n",
    "mainCanvas = cv2.imread(\"assets/lab7.png\")\n",
    "candyGhost = cv2.imread(\"assets/candy_ghost.png\")\n",
    "\n",
    "cv2.imshow(\"IMAGE\", findImage(mainCanvas, candyGhost))\n",
    "\n",
    "key = cv2.waitKey(0) & 0xFF\n",
    "cv2.destroyAllWindows()"
   ]
  },
  {
   "cell_type": "code",
   "execution_count": 54,
   "metadata": {},
   "outputs": [],
   "source": [
    "import cv2\n",
    "import numpy as np\n",
    "\n",
    "MIN_DIFF = 50\n",
    "\n",
    "def findImage(mainIMG, subIMG):\n",
    "    global MIN_DIFF\n",
    "    threshold = 0.8\n",
    "    alpha = 0.7\n",
    "    scale = 1.\n",
    "\n",
    "    outIMG = mainIMG.copy()\n",
    "    h, w, _ = subIMG.shape\n",
    "\n",
    "    mainIMG_B = cv2.GaussianBlur(cv2.cvtColor(mainIMG, cv2.COLOR_BGR2GRAY), (5,5), 0)\n",
    "    subIMG_B = cv2.GaussianBlur(cv2.cvtColor(subIMG, cv2.COLOR_BGR2GRAY), (5,5), 0)\n",
    "    marks = np.zeros_like(outIMG)\n",
    "    match = cv2.matchTemplate(mainIMG_B, subIMG_B, cv2.TM_CCORR_NORMED)\n",
    "    locations = np.where(match >= threshold)\n",
    "    prev = (-1,1)\n",
    "    for point in zip(*locations[::-1]):\n",
    "        if abs(point[0] - prev[0]) < MIN_DIFF and abs(point[1] - prev[1]) < MIN_DIFF:\n",
    "            continue\n",
    "        cv2.rectangle(marks, point, (point[0] + w, point[1] + h), (0,0,255), 3)\n",
    "        prev = point\n",
    "\n",
    "    outIMG = cv2.addWeighted(outIMG, alpha, marks, 1-alpha, 0)\n",
    "    return outIMG\n",
    "\n",
    "mainCanvas = cv2.imread(\"assets/lab7.png\")\n",
    "candyGhost = cv2.imread(\"assets/candy_ghost.png\")\n",
    "scaryGhost = cv2.imread(\"assets/scary_ghost.png\")\n",
    "pamkinGhost = cv2.imread(\"assets/pampkin_ghost.png\")\n",
    "\n",
    "cv2.imshow(\"IMAGE\", findImage(findImage(findImage(mainCanvas, scaryGhost), pamkinGhost), candyGhost))\n",
    "\n",
    "key = cv2.waitKey(0) & 0xFF\n",
    "cv2.destroyAllWindows()"
   ]
  }
 ],
 "metadata": {
  "kernelspec": {
   "display_name": "Python 3.10.2 64-bit",
   "language": "python",
   "name": "python3"
  },
  "language_info": {
   "codemirror_mode": {
    "name": "ipython",
    "version": 3
   },
   "file_extension": ".py",
   "mimetype": "text/x-python",
   "name": "python",
   "nbconvert_exporter": "python",
   "pygments_lexer": "ipython3",
   "version": "3.10.2"
  },
  "orig_nbformat": 4,
  "vscode": {
   "interpreter": {
    "hash": "2cf155f076a73359a1298dc0a00f49ef22b916380873db02a1df5c4bdf885702"
   }
  }
 },
 "nbformat": 4,
 "nbformat_minor": 2
}
