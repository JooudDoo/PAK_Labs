{
 "cells": [
  {
   "cell_type": "code",
   "execution_count": 35,
   "metadata": {},
   "outputs": [],
   "source": [
    "import numpy as np\n",
    "import cv2"
   ]
  },
  {
   "cell_type": "code",
   "execution_count": 36,
   "metadata": {},
   "outputs": [],
   "source": [
    "def movement_tracker(fst, snd):\n",
    "    frame_diff = cv2.absdiff(fst, snd)\n",
    "    frame_diff = cv2.GaussianBlur(cv2.cvtColor(frame_diff, cv2.COLOR_BGR2GRAY), (5,5), 0)\n",
    "    frame_diff  = cv2.dilate(frame_diff, None, iterations=3)\n",
    "    frame_diff = cv2.threshold(frame_diff, thresh=20, maxval=255, type=cv2.THRESH_BINARY)[1]\n",
    "    contours, _ = cv2.findContours(frame_diff, cv2.RETR_EXTERNAL, cv2.CHAIN_APPROX_SIMPLE)\n",
    "    out_frame   = snd.copy()\n",
    "    movement_marks = np.empty_like(out_frame, np.uint8)\n",
    "    for con in contours:\n",
    "        (x,y,w,h) = cv2.boundingRect(con)\n",
    "        if cv2.contourArea(con) > 120:\n",
    "            cv2.rectangle(movement_marks, (x,y), (x+w, y+h), (0,0,255), cv2.FILLED)\n",
    "    mask = movement_marks.astype(bool)\n",
    "    alpha = 0.3\n",
    "    out_frame[mask] = cv2.addWeighted(out_frame, alpha, movement_marks, 1-alpha, 0)[mask]\n",
    "    return out_frame"
   ]
  },
  {
   "cell_type": "code",
   "execution_count": 37,
   "metadata": {},
   "outputs": [],
   "source": [
    "def movement_tracker_TWO(fst, snd):\n",
    "    frame_diff = cv2.absdiff(fst, snd)\n",
    "    frame_diff = cv2.medianBlur(cv2.cvtColor(frame_diff, cv2.COLOR_BGR2GRAY), 5) #Блюр чтобы сгладить шум\n",
    "    frame_diff = cv2.threshold(frame_diff, thresh=20, maxval=255, type=cv2.THRESH_BINARY)[1] #Если значение пиксели выше thresh то он белый, остальные в черный\n",
    "    frame_diff = cv2.dilate(frame_diff, np.ones((3,3)), iterations=3) #Расширить белые пиксели\n",
    "\n",
    "    frame_diff_color = cv2.cvtColor(cv2.medianBlur(frame_diff, 5), cv2.COLOR_GRAY2BGR)\n",
    "    frame_diff_color[frame_diff.astype(bool)] = [0,0,255]\n",
    "    frame_diff_color[np.logical_not(frame_diff.astype(bool))] = [0,255,0]\n",
    "    alpha = 0.7\n",
    "    out_frame = cv2.addWeighted(fst, alpha, frame_diff_color, 1-alpha, 0)\n",
    "    return out_frame"
   ]
  },
  {
   "cell_type": "code",
   "execution_count": 38,
   "metadata": {},
   "outputs": [],
   "source": [
    "class MovementTimer:\n",
    "    timer = 0\n",
    "\n",
    "    def __init__(self, cyclePeriod = 15):\n",
    "        self.cyclePeriod = cyclePeriod\n",
    "    \n",
    "    def timeIT(self):\n",
    "        self.timer += 1\n",
    "        if self.timer == self.cyclePeriod:\n",
    "            self.timer = 0\n",
    "            return True\n",
    "        return False"
   ]
  },
  {
   "cell_type": "code",
   "execution_count": 39,
   "metadata": {},
   "outputs": [],
   "source": [
    "class FrameRenderer():\n",
    "    \n",
    "    def __init__(self, prefixName = \"\",  initialframe = None , cyclePeriod = 15):\n",
    "        self.timer = MovementTimer(cyclePeriod)\n",
    "        self.prevFrame = initialframe\n",
    "        self.prefix = prefixName.strip() + \" \"\n",
    "        self.state = False\n",
    "    \n",
    "    def drawState(self, frame : cv2.Mat):\n",
    "        if self.state:\n",
    "            return cv2.putText(frame, \"Tracking\", (0, 30), cv2.FONT_HERSHEY_SIMPLEX, 1, (0, 0, 255), 2)\n",
    "        else:\n",
    "            return cv2.putText(frame, \"Stay\", (0, 30), cv2.FONT_HERSHEY_SIMPLEX, 1, (0, 255, 0), 2)\n",
    "\n",
    "    def cycle(self, nextFrame  : cv2.Mat):\n",
    "        if self.timer.timeIT():\n",
    "            self.state = not self.state\n",
    "        if self.state:\n",
    "            frameMTwo = movement_tracker_TWO(nextFrame, self.prevFrame)\n",
    "            frameMOne = movement_tracker(nextFrame, self.prevFrame)\n",
    "        else:\n",
    "            frameMTwo = nextFrame\n",
    "            frameMOne = nextFrame\n",
    "        self.prevFrame = nextFrame.copy()\n",
    "        cv2.imshow(self.prefix + 'ORIGINAL', nextFrame)\n",
    "        cv2.imshow(self.prefix + 'MOVEMENTTWO', self.drawState(frameMTwo))\n",
    "        cv2.imshow(self.prefix + 'MOVEMENT', self.drawState(frameMOne))"
   ]
  },
  {
   "cell_type": "code",
   "execution_count": 40,
   "metadata": {},
   "outputs": [],
   "source": [
    "def from_file(filename):\n",
    "    cap = cv2.VideoCapture(filename)\n",
    "    ret, prev = cap.read()\n",
    "    renderer = FrameRenderer(prefixName = \"File\", initialframe=prev, cyclePeriod=60)\n",
    "    if not ret:\n",
    "        raise ValueError(\"Video stream not opened\")\n",
    "\n",
    "    while True:\n",
    "        key = cv2.waitKey(20) & 0xff\n",
    "        ret, frame = cap.read()\n",
    "        if key == 27 or not ret: break\n",
    "        renderer.cycle(frame)\n",
    "    \n",
    "    cv2.destroyAllWindows()\n",
    "    cap.release()"
   ]
  },
  {
   "cell_type": "code",
   "execution_count": 41,
   "metadata": {},
   "outputs": [
    {
     "name": "stdout",
     "output_type": "stream",
     "text": [
      "Not founded lib to work with stream\n"
     ]
    }
   ],
   "source": [
    "try:\n",
    "    import yt_dlp\n",
    "    from vidgear.gears import CamGear\n",
    "    def from_site(url):\n",
    "        options = {\"STREAM_RESOLUTION\": \"480p\", }\n",
    "        stream = CamGear(source=url, stream_mode=True,logging=False, **options).start()\n",
    "        renderer = FrameRenderer(prefixName = \"Stream\", initialframe=stream.read(), cyclePeriod=60)\n",
    "        while True:\n",
    "            key = cv2.waitKey(20) & 0xFF\n",
    "            frame = stream.read()\n",
    "            if frame is None or key == 27: break #ESC\n",
    "            renderer.cycle(frame)\n",
    "        cv2.destroyAllWindows()\n",
    "        stream.stop()\n",
    "\n",
    "except ModuleNotFoundError:\n",
    "    print(\"Not founded lib to work with stream\")\n",
    "    def from_site(url):\n",
    "        return None\n"
   ]
  },
  {
   "cell_type": "code",
   "execution_count": 42,
   "metadata": {},
   "outputs": [],
   "source": [
    "if __name__ == '__main__':\n",
    "    from_site(\"https://www.youtube.com/watch?v=akjT10sjPTc\")\n",
    "    from_file(\"NovCAm.mp4\")"
   ]
  }
 ],
 "metadata": {
  "kernelspec": {
   "display_name": "Python 3.10.2 ('venv': venv)",
   "language": "python",
   "name": "python3"
  },
  "language_info": {
   "codemirror_mode": {
    "name": "ipython",
    "version": 3
   },
   "file_extension": ".py",
   "mimetype": "text/x-python",
   "name": "python",
   "nbconvert_exporter": "python",
   "pygments_lexer": "ipython3",
   "version": "3.10.2"
  },
  "orig_nbformat": 4,
  "vscode": {
   "interpreter": {
    "hash": "37f248507c446a3b7f6d448f083e13e785f2cfd62e2073dd9712855545bbc693"
   }
  }
 },
 "nbformat": 4,
 "nbformat_minor": 2
}
