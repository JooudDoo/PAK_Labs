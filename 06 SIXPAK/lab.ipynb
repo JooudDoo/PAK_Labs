{
 "cells": [
  {
   "cell_type": "code",
   "execution_count": 49,
   "metadata": {},
   "outputs": [],
   "source": [
    "import matplotlib.pyplot as plt\n",
    "import numpy as np\n",
    "import cv2"
   ]
  },
  {
   "cell_type": "code",
   "execution_count": 50,
   "metadata": {},
   "outputs": [],
   "source": [
    "def from_file(filename):\n",
    "    cap = cv2.VideoCapture(filename)\n",
    "    ret, frame = cap.read()\n",
    "    if not ret:\n",
    "        raise ValueError(\"Video stream not opened\")\n",
    "    prev = frame.copy()\n",
    "    while ret:\n",
    "        key = cv2.waitKey(20) & 0xff\n",
    "        if key == 27 or not ret:\n",
    "            break\n",
    "        cv2.imshow('ORIGINAL', frame)\n",
    "        cv2.imshow('MOVEMENT', movement_tracker(frame, prev))\n",
    "        prev = frame.copy()\n",
    "        ret, frame = cap.read()\n",
    "    \n",
    "    cv2.destroyAllWindows()\n",
    "    cap.release()"
   ]
  },
  {
   "cell_type": "code",
   "execution_count": 51,
   "metadata": {},
   "outputs": [],
   "source": [
    "def movement_tracker(fst, snd):\n",
    "    frame_diff = cv2.absdiff(fst, snd)\n",
    "    frame_diff = cv2.GaussianBlur(cv2.cvtColor(frame_diff, cv2.COLOR_BGR2GRAY), (5,5), 0)\n",
    "    frame_diff  = cv2.dilate(frame_diff, None, iterations=3)\n",
    "    frame_diff = cv2.threshold(frame_diff, thresh=20, maxval=255, type=cv2.THRESH_BINARY)[1]\n",
    "    contours, _ = cv2.findContours(frame_diff, cv2.RETR_EXTERNAL, cv2.CHAIN_APPROX_SIMPLE)\n",
    "    out_frame   = snd.copy()\n",
    "    movement_marks = np.empty_like(out_frame, np.uint8)\n",
    "    for con in contours:\n",
    "        (x,y,w,h) = cv2.boundingRect(con)\n",
    "        if cv2.contourArea(con) > 120:\n",
    "            cv2.rectangle(movement_marks, (x,y), (x+w, y+h), (0,0,255), cv2.FILLED)\n",
    "    mask = movement_marks.astype(bool)\n",
    "    out_frame[mask] = cv2.addWeighted(out_frame, 0.5, movement_marks, 0.5, 0)[mask]\n",
    "    return out_frame"
   ]
  },
  {
   "cell_type": "code",
   "execution_count": 52,
   "metadata": {},
   "outputs": [],
   "source": [
    "def movement_tracker_TWO(fst, snd):\n",
    "    #Work with image to find movements\n",
    "    frame_diff = cv2.absdiff(fst, snd)\n",
    "    frame_diff = cv2.medianBlur(cv2.cvtColor(frame_diff, cv2.COLOR_BGR2GRAY), 5) #Блюр чтобы сгладить шум\n",
    "    frame_diff = cv2.threshold(frame_diff, thresh=20, maxval=255, type=cv2.THRESH_BINARY)[1] #Если значение пиксели выше thresh то он белый, остальные в черный\n",
    "    frame_diff = cv2.dilate(frame_diff, np.ones((3,3)), iterations=3) #Расширить белые пиксели\n",
    "\n",
    "    frame_diff_color = cv2.cvtColor(frame_diff, cv2.COLOR_GRAY2BGR)\n",
    "    frame_diff_color[np.where((frame_diff_color==[255, 255, 255]).all(axis=2))] = [0, 0, 255] #Color white to red\n",
    "    frame_diff_color[np.where((frame_diff_color==[0, 0, 0]).all(axis=2))] = [0, 255, 0] #Color black to GREEN\n",
    "    alpha = 0.7\n",
    "    out_frame = cv2.addWeighted(fst, alpha, frame_diff_color, 1-alpha, 0)\n",
    "    return out_frame"
   ]
  },
  {
   "cell_type": "code",
   "execution_count": 53,
   "metadata": {},
   "outputs": [],
   "source": [
    "from vidgear.gears import CamGear\n",
    "def from_site(url):\n",
    "    options = {\"STREAM_RESOLUTION\": \"480p\", }\n",
    "    stream = CamGear(source=url, stream_mode=True,logging=False, **options).start()\n",
    "    prev = stream.read()\n",
    "    while True:\n",
    "        key = cv2.waitKey(1) & 0xFF\n",
    "        frame = stream.read()\n",
    "        if frame is None or key == 27: break #ESC\n",
    "        #cv2.imshow('ORIGINAL', frame)\n",
    "        cv2.imshow('MOVEMENTTWO', movement_tracker_TWO(frame, prev))\n",
    "        #cv2.imshow('MOVEMENT', movement_tracker(frame, prev))\n",
    "        prev = frame.copy()\n",
    "        \n",
    "    cv2.destroyAllWindows()\n",
    "    stream.stop()\n"
   ]
  },
  {
   "cell_type": "code",
   "execution_count": 54,
   "metadata": {},
   "outputs": [
    {
     "name": "stderr",
     "output_type": "stream",
     "text": [
      "\u001b[32m15:52:37\u001b[0m :: \u001b[1;35m   Helper    \u001b[0m :: \u001b[1;31m\u001b[2;33mWARNING \u001b[0m :: \u001b[1;37mGStreamer not found!\u001b[0m\n",
      "\u001b[32m15:52:37\u001b[0m :: \u001b[1;35m   CamGear   \u001b[0m :: \u001b[1;36m  INFO  \u001b[0m :: \u001b[1;37mVerifying Streaming URL using yt-dlp backend. Please wait...\u001b[0m\n",
      "\u001b[32m15:52:38\u001b[0m :: \u001b[1;35m   CamGear   \u001b[0m :: \u001b[1;36m  INFO  \u001b[0m :: \u001b[1;37m[Backend] :: Streaming URL is fully supported. Available Streams are: [144p, 240p, 360p, 480p, 720p, 1080p, best, worst]\u001b[0m\n",
      "\u001b[32m15:52:38\u001b[0m :: \u001b[1;35m   CamGear   \u001b[0m :: \u001b[1;31m\u001b[2;33mWARNING \u001b[0m :: \u001b[1;37mLivestream URL detected. It is advised to use GStreamer backend(`cv2.CAP_GSTREAMER`) with it.\u001b[0m\n"
     ]
    }
   ],
   "source": [
    "if __name__ == '__main__':\n",
    "    #from_file(\"Coffin Dance (Official Music Video HD).mp4\")\n",
    "    from_site(\"https://www.youtube.com/watch?v=akjT10sjPTc\")\n",
    "    #https://www.youtube.com/watch?v=cIvkWkQSpq4\n",
    "    #https://www.youtube.com/watch?v=rG13FY2ytno\n",
    "    #\"https://www.youtube.com/watch?v=akjT10sjPTc\""
   ]
  }
 ],
 "metadata": {
  "kernelspec": {
   "display_name": "Python 3.10.2 64-bit",
   "language": "python",
   "name": "python3"
  },
  "language_info": {
   "codemirror_mode": {
    "name": "ipython",
    "version": 3
   },
   "file_extension": ".py",
   "mimetype": "text/x-python",
   "name": "python",
   "nbconvert_exporter": "python",
   "pygments_lexer": "ipython3",
   "version": "3.10.2"
  },
  "orig_nbformat": 4,
  "vscode": {
   "interpreter": {
    "hash": "2cf155f076a73359a1298dc0a00f49ef22b916380873db02a1df5c4bdf885702"
   }
  }
 },
 "nbformat": 4,
 "nbformat_minor": 2
}
