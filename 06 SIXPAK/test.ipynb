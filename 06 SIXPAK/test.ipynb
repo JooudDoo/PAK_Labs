{
 "cells": [
  {
   "cell_type": "code",
   "execution_count": 1,
   "metadata": {},
   "outputs": [],
   "source": [
    "import matplotlib.pyplot as plt\n",
    "import numpy as np\n",
    "import cv2"
   ]
  },
  {
   "cell_type": "code",
   "execution_count": 2,
   "metadata": {},
   "outputs": [],
   "source": [
    "def to_grayscale(img): #Converts image to grayscale and add some blur\n",
    "    kernel = np.array([\n",
    "        [-0.1,  0.2, -0.1],\n",
    "        [ 0.2,    1,  0.2],\n",
    "        [-0.1,  0.2, -0.1],\n",
    "    ])\n",
    "    img = cv2.filter2D(img, -1, kernel)\n",
    "    kernel = np.array([\n",
    "        [-0.1, -0.1, -0.1],\n",
    "        [-0.1,    2, -0.1],\n",
    "        [-0.1, -0.1, -0.1],\n",
    "    ])\n",
    "    img = cv2.filter2D(img, -1, kernel)\n",
    "    img = cv2.cvtColor(img, cv2.COLOR_BGR2GRAY)\n",
    "    img = cv2.GaussianBlur(img, (5,5), 0)\n",
    "    return img\n",
    "\n",
    "def to_edged(img):\n",
    "    imgG = cv2.Canny(img, 10, 250)\n",
    "    kernel = cv2.getStructuringElement(cv2.MORPH_RECT, (7, 7))\n",
    "    img = cv2.morphologyEx(img, cv2.MORPH_CLOSE, kernel)\n",
    "    return imgG\n",
    "\n",
    "def draw_contours(img):\n",
    "    gray_ing  = to_grayscale(img)\n",
    "    edged_img = to_edged(gray_ing)\n",
    "    edges, hier = cv2.findContours(edged_img, cv2.RETR_TREE, cv2.CHAIN_APPROX_SIMPLE)[0:]\n",
    "    cv2.drawContours(img, edges, -1, (0, 0, 255), 3, hierarchy=hier)\n",
    "    return img\n"
   ]
  },
  {
   "cell_type": "code",
   "execution_count": 3,
   "metadata": {},
   "outputs": [],
   "source": [
    "if __name__ == '__main__':\n",
    "    cap = cv2.VideoCapture(\"Coffin Dance (Official Music Video HD).mp4\")\n",
    "    while True:\n",
    "        ret, frame = cap.read()\n",
    "        key = cv2.waitKey(20) & 0xff\n",
    "        if key == 27 or not ret:\n",
    "            break\n",
    "        thirdFRAME = to_edged(to_grayscale(frame.copy()))\n",
    "        editedFrame = draw_contours(frame.copy())\n",
    "        cv2.imshow('ORIGINAL', frame)\n",
    "        cv2.imshow('THIRD', thirdFRAME)\n",
    "        cv2.imshow('EDITED', editedFrame)\n",
    "\n",
    "    cv2.destroyWindow('ORIGINAL')\n",
    "    cv2.destroyWindow('THIRD')\n",
    "    cv2.destroyWindow('EDITED')\n",
    "    cap.release()"
   ]
  }
 ],
 "metadata": {
  "kernelspec": {
   "display_name": "Python 3.10.2 64-bit",
   "language": "python",
   "name": "python3"
  },
  "language_info": {
   "codemirror_mode": {
    "name": "ipython",
    "version": 3
   },
   "file_extension": ".py",
   "mimetype": "text/x-python",
   "name": "python",
   "nbconvert_exporter": "python",
   "pygments_lexer": "ipython3",
   "version": "3.10.2"
  },
  "orig_nbformat": 4,
  "vscode": {
   "interpreter": {
    "hash": "2cf155f076a73359a1298dc0a00f49ef22b916380873db02a1df5c4bdf885702"
   }
  }
 },
 "nbformat": 4,
 "nbformat_minor": 2
}
