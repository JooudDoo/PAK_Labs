{
 "cells": [
  {
   "cell_type": "code",
   "execution_count": 1,
   "metadata": {},
   "outputs": [],
   "source": [
    "import numpy as np\n",
    "import cv2"
   ]
  },
  {
   "cell_type": "code",
   "execution_count": 3,
   "metadata": {},
   "outputs": [],
   "source": [
    "import os\n",
    "from os.path import join as pjoin\n",
    "\n",
    "def useMaskImage(mask, img):\n",
    "    alpha = 0.7\n",
    "    maskProc = cv2.cvtColor(cv2.Canny(mask, 10, 200), cv2.COLOR_GRAY2BGR)\n",
    "    maskProc[np.where((maskProc!=[0, 0, 0]).all(axis=2))] = [0, 0, 255]\n",
    "    maskProc = cv2.dilate(maskProc, np.ones((3,3)), iterations=3)\n",
    "    return cv2.addWeighted(img, alpha, maskProc, 1-alpha, 0)\n",
    "\n",
    "imagesFolder = \"nails/images\"\n",
    "masksFolder  = \"nails/labels\"\n",
    "\n",
    "maskedImages = []\n",
    "\n",
    "for name in os.listdir(imagesFolder):\n",
    "    if (os.path.isfile(name)):\n",
    "        continue\n",
    "    image = cv2.imread(pjoin(imagesFolder, name))\n",
    "    mask  = cv2.imread(pjoin(masksFolder, name))\n",
    "    maskedImages.append(useMaskImage(mask, image))\n",
    "\n",
    "pictureToShow = 0\n",
    "while True:\n",
    "    imagetoShow = cv2.putText(maskedImages[pictureToShow],'A/D - switch image', (0, 30), cv2.FONT_HERSHEY_SIMPLEX, 1, (0, 123, 255), 2)\n",
    "    cv2.imshow(\"Task\", imagetoShow)\n",
    "    key = cv2.waitKey(0) & 0xff\n",
    "    if key == ord('a') or key == ord('A'):\n",
    "        pictureToShow = (pictureToShow - 1) % len(maskedImages)\n",
    "    if key == ord('d') or key == ord('D'):\n",
    "        pictureToShow = (pictureToShow + 1) % len(maskedImages)\n",
    "    if key == ord('Q') or key == ord('q') or key == 27:\n",
    "        break\n",
    "\n",
    "\n",
    "cv2.destroyAllWindows()\n"
   ]
  },
  {
   "cell_type": "code",
   "execution_count": 11,
   "metadata": {},
   "outputs": [
    {
     "name": "stdout",
     "output_type": "stream",
     "text": [
      "FPS 29.415546890341403\r"
     ]
    }
   ],
   "source": [
    "import time\n",
    "cap = cv2.VideoCapture(\"Coffin Dance (Official Music Video HD).mp4\")\n",
    "FPS = 30\n",
    "targetDelay = 1000/FPS\n",
    "while True:\n",
    "    Q_st = time.time()\n",
    "    ret, frame = cap.read()\n",
    "    cv2.imshow('ORIGINAL', cv2.cvtColor(frame,cv2.COLOR_BGR2GRAY))\n",
    "    Q_end = time.time()\n",
    "    timePerFrame = Q_end - Q_st\n",
    "    delay = targetDelay - timePerFrame*1000\n",
    "    if delay < 0: delay = 1\n",
    "    key = cv2.waitKey(int(delay)) & 0xff\n",
    "    if key == 27 or not ret or key == ord('Q') or key == ord('q'):\n",
    "        break\n",
    "    print(f\"FPS {1/(time.time() - Q_st)}\", end=\"\\r\")\n",
    "\n",
    "cv2.destroyAllWindows()\n"
   ]
  }
 ],
 "metadata": {
  "kernelspec": {
   "display_name": "Python 3.10.2 64-bit",
   "language": "python",
   "name": "python3"
  },
  "language_info": {
   "codemirror_mode": {
    "name": "ipython",
    "version": 3
   },
   "file_extension": ".py",
   "mimetype": "text/x-python",
   "name": "python",
   "nbconvert_exporter": "python",
   "pygments_lexer": "ipython3",
   "version": "3.10.2"
  },
  "orig_nbformat": 4,
  "vscode": {
   "interpreter": {
    "hash": "2cf155f076a73359a1298dc0a00f49ef22b916380873db02a1df5c4bdf885702"
   }
  }
 },
 "nbformat": 4,
 "nbformat_minor": 2
}
