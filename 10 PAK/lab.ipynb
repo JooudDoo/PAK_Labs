{
 "cells": [
  {
   "cell_type": "code",
   "execution_count": 1,
   "metadata": {},
   "outputs": [],
   "source": [
    "import numpy as np"
   ]
  },
  {
   "cell_type": "code",
   "execution_count": 10,
   "metadata": {},
   "outputs": [],
   "source": [
    "def sigmoid(x):\n",
    "    return 1 / (1 + np.exp(-x))\n",
    "\n",
    "def sigmoidDerivative(x):\n",
    "    return x * (1 - x)\n",
    "\n",
    "class Neuron():\n",
    "\n",
    "    def __init__(self, sizeIn, sizeOut, activationFunction=sigmoid, errorFunction=sigmoidDerivative, learningRate=0.1):\n",
    "        self.learningRate = learningRate\n",
    "        self.sizeIn = sizeIn\n",
    "        self.sizeOut = sizeOut\n",
    "        self.errorFunction = errorFunction\n",
    "        self.activationFunction = activationFunction\n",
    "        self.W = np.random.uniform(size=(sizeIn, sizeOut))\n",
    "        self.b = np.random.uniform(size=(1, sizeOut))\n",
    "    \n",
    "    def forward(self, x):\n",
    "        self.inputVal = x\n",
    "        self.outputVal = self.activationFunction(x.dot(self.W) + self.b)\n",
    "        return self.outputVal\n",
    "    \n",
    "    def delta(self, error):\n",
    "        self._loss = error * self.errorFunction(self.outputVal)\n",
    "        return self._loss\n",
    "    \n",
    "    def backward(self, x, delta):\n",
    "        self.W += x.T.dot(delta) * self.learningRate\n",
    "        self.b += np.sum(delta, axis=0, keepdims=True) * self.learningRate\n",
    "\n",
    "class Model():\n",
    "\n",
    "    def __init__(self, inputSize, hiddenSize, outputSize, activationFunction=sigmoid, errorFunction=sigmoidDerivative, learningRate=0.1):\n",
    "        self.learningRate = learningRate\n",
    "        self.inputSize = inputSize\n",
    "        self.hiddenSize = hiddenSize\n",
    "        self.outputSize = outputSize\n",
    "        self.activationFunction = activationFunction\n",
    "        self.errorFunction = errorFunction\n",
    "\n",
    "        self.hiddenLayer = Neuron(inputSize, hiddenSize, self.activationFunction, self.errorFunction, self.learningRate)\n",
    "        self.outputLayer = Neuron(hiddenSize, outputSize, self.activationFunction, self.errorFunction, self.learningRate)\n",
    "    \n",
    "    def forward(self, x):\n",
    "        self.hiddenOutputVal = self.hiddenLayer.forward(x)\n",
    "        self.outputVal = self.outputLayer.forward(self.hiddenOutputVal)\n",
    "        return self.outputVal\n",
    "\n",
    "    def backward(self, x, err):\n",
    "        delta_outputLayer = self.outputLayer.delta(err)\n",
    "        error_hiddenLayer = delta_outputLayer.dot(self.outputLayer.W.T)\n",
    "        delta_hiddenLayer = self.hiddenLayer.delta(error_hiddenLayer)\n",
    "\n",
    "        self.hiddenLayer.backward(x, delta_hiddenLayer)\n",
    "        self.outputLayer.backward(self.hiddenOutputVal, delta_outputLayer)\n",
    "    \n",
    "    def result(self):\n",
    "        return self.outputVal\n",
    "\n",
    "    @staticmethod\n",
    "    def loss(predRes, trueRes):\n",
    "        return trueRes - predRes\n",
    "        \n"
   ]
  },
  {
   "cell_type": "code",
   "execution_count": 11,
   "metadata": {},
   "outputs": [
    {
     "name": "stderr",
     "output_type": "stream",
     "text": [
      "100%|██████████| 10000/10000 [00:00<00:00, 19193.89it/s]\n"
     ]
    },
    {
     "data": {
      "text/plain": [
       "array([[0.05770383],\n",
       "       [0.9470198 ],\n",
       "       [0.9469948 ],\n",
       "       [0.05712647]])"
      ]
     },
     "execution_count": 11,
     "metadata": {},
     "output_type": "execute_result"
    }
   ],
   "source": [
    "import tqdm\n",
    "\n",
    "epochs = 10000\n",
    "\n",
    "np.random.seed(0)\n",
    "md = Model(2, 2, 1)\n",
    "\n",
    "inputs = np.array([[0,0],[0,1],[1,0],[1,1]])\n",
    "expected_output = np.array([[0],[1],[1],[0]])\n",
    "\n",
    "for _ in tqdm.tqdm(range(epochs)):\n",
    "    y = md.forward(inputs)\n",
    "    err = Model.loss(y, expected_output)\n",
    "    md.backward(inputs, err)\n",
    "\n",
    "md.result()"
   ]
  },
  {
   "attachments": {},
   "cell_type": "markdown",
   "metadata": {},
   "source": [
    "----------------"
   ]
  },
  {
   "cell_type": "code",
   "execution_count": 85,
   "metadata": {},
   "outputs": [],
   "source": [
    "class Layer():\n",
    "\n",
    "    def __init__(self, learningRate, sizeIn, sizeOut, activationFunction, errorFunction):\n",
    "        self.learningRate = learningRate\n",
    "        self.sizeIn = sizeIn\n",
    "        self.sizeOut = sizeOut\n",
    "        self.errorFunction = errorFunction\n",
    "        self.activationFunction = activationFunction\n",
    "        self.W = np.random.uniform(size=(sizeIn, sizeOut))\n",
    "        self.b = np.random.uniform(size=(1, sizeOut))\n",
    "    \n",
    "    def getOutput(self):\n",
    "        return self.activationFunction(self.activaValue)\n",
    "\n",
    "    def forward(self, x):\n",
    "        self.inVal = x\n",
    "        self.activaValue = np.dot(x, self.W) + self.b\n",
    "        return self.getOutput()\n",
    "\n",
    "    def backward(self, output_delta, output_weights):\n",
    "        error = output_delta.dot(output_weights.T)\n",
    "        deltaLayer = error * self.errorFunction(self.getOutput())\n",
    "        self.W += self.inVal.T.dot(deltaLayer) * self.learningRate\n",
    "        self.b += np.sum(deltaLayer, axis=0, keepdims=True) * self.learningRate\n",
    "\n",
    "class OutputLayer():\n",
    "    \n",
    "    def __init__(self, learningRate, sizeIn, sizeOut, activationFunction, errorFunction):\n",
    "        self.learningRate = learningRate\n",
    "        self.sizeIn = sizeIn\n",
    "        self.sizeOut = sizeOut\n",
    "        self.errorFunction = errorFunction\n",
    "        self.activationFunction = activationFunction\n",
    "        self.W = np.random.uniform(size=(sizeIn, sizeOut))\n",
    "        self.b = np.random.uniform(size=(1, sizeOut))\n",
    "    \n",
    "    def getOutput(self):\n",
    "        return self.activationFunction(self.activaValue)\n",
    "\n",
    "    def forward(self, x):\n",
    "        self.inVal = x\n",
    "        self.activaValue = np.dot(x, self.W) + self.b\n",
    "        return self.getOutput()\n",
    "    \n",
    "    def backward(self, y):\n",
    "        error = y - self.getOutput()\n",
    "        delta = error * self.errorFunction(self.getOutput())\n",
    "        prevWeigths = self.W.copy()\n",
    "        self.W += self.inVal.T.dot(delta) * self.learningRate\n",
    "        self.b += np.sum(delta, axis=0, keepdims=True) * self.learningRate\n",
    "        return delta, prevWeigths\n"
   ]
  },
  {
   "cell_type": "code",
   "execution_count": 86,
   "metadata": {},
   "outputs": [
    {
     "name": "stderr",
     "output_type": "stream",
     "text": [
      "100%|██████████| 10000/10000 [00:00<00:00, 15431.83it/s]"
     ]
    },
    {
     "name": "stdout",
     "output_type": "stream",
     "text": [
      "[[0.05770383]\n",
      " [0.9470198 ]\n",
      " [0.9469948 ]\n",
      " [0.05712647]]\n"
     ]
    },
    {
     "name": "stderr",
     "output_type": "stream",
     "text": [
      "\n"
     ]
    }
   ],
   "source": [
    "import tqdm\n",
    "\n",
    "np.random.seed(0)\n",
    "\n",
    "inputs = np.array([[0,0],[0,1],[1,0],[1,1]])\n",
    "expected_output = np.array([[0],[1],[1],[0]])\n",
    "\n",
    "epochs = 10000\n",
    "\n",
    "hidden_layer = Layer(learningRate=0.1, sizeIn=2, sizeOut=2, activationFunction=sigmoid, errorFunction=sigmoidDerivative)\n",
    "ouput_layer = OutputLayer(learningRate=0.1, sizeIn=2, sizeOut=1, activationFunction=sigmoid, errorFunction=sigmoidDerivative)\n",
    "\n",
    "\n",
    "for _ in tqdm.tqdm(range(epochs)):\n",
    "    hidden_layer_output = hidden_layer.forward(inputs)\n",
    "    output_layer_output = ouput_layer.forward(hidden_layer_output)\n",
    "\n",
    "    delta_out, weights_out = ouput_layer.backward(expected_output)\n",
    "    hidden_layer.backward(delta_out, weights_out)\n",
    "\n",
    "print(ouput_layer.getOutput())"
   ]
  }
 ],
 "metadata": {
  "kernelspec": {
   "display_name": "packsVenv",
   "language": "python",
   "name": "python3"
  },
  "language_info": {
   "codemirror_mode": {
    "name": "ipython",
    "version": 3
   },
   "file_extension": ".py",
   "mimetype": "text/x-python",
   "name": "python",
   "nbconvert_exporter": "python",
   "pygments_lexer": "ipython3",
   "version": "3.10.2"
  },
  "orig_nbformat": 4,
  "vscode": {
   "interpreter": {
    "hash": "5ff688f89a0370a5936d2c10a3cf318be4dba0db836fb7ebaf788172d168ae0b"
   }
  }
 },
 "nbformat": 4,
 "nbformat_minor": 2
}
