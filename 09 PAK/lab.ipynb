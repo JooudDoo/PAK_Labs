{
 "cells": [
  {
   "cell_type": "code",
   "execution_count": 10,
   "metadata": {},
   "outputs": [],
   "source": [
    "from HyperparamCalculator import HyperparamCalculation, predictByModel\n",
    "import pandas as pd\n",
    "import numpy as np\n",
    "\n",
    "titanic_data = pd.read_csv(\"data/titanic_prepared.csv\").drop(['Unnamed: 0'], axis=1)\n",
    "\n",
    "titanic_full_df = titanic_data.sample(frac=1, random_state=5)\n",
    "testPart = int(len(titanic_full_df)*0.1)\n",
    "test_df = titanic_full_df[:testPart]\n",
    "train_df = titanic_full_df[testPart:]\n",
    "\n",
    "def divideData(df):\n",
    "    return (df.drop(['label'], axis=1), df.label)\n",
    "\n",
    "test_x, test_y = divideData(test_df)\n",
    "train_x, train_y = divideData(train_df)"
   ]
  },
  {
   "attachments": {},
   "cell_type": "markdown",
   "metadata": {},
   "source": [
    "## Decision Tree"
   ]
  },
  {
   "cell_type": "code",
   "execution_count": 11,
   "metadata": {},
   "outputs": [
    {
     "name": "stdout",
     "output_type": "stream",
     "text": [
      "Лучшая точность (Validation): 0.9064856711915537\n",
      "Лучшие параметры (Validation): (6, 'entropy')\n",
      "Точность определения (Test): 90.65% (DecisionTree)\n"
     ]
    }
   ],
   "source": [
    "from sklearn.tree import DecisionTreeClassifier\n",
    "\n",
    "paramsDecTree = {\n",
    "    \"max_depth\": list(range(1, 15)),\n",
    "    \"criterion\": (\"gini\", \"entropy\", \"log_loss\")\n",
    "}\n",
    "\n",
    "decTreeParametrizer = lambda p: DecisionTreeClassifier(max_depth=p[0], criterion=p[1])\n",
    "decTreeCalculator = HyperparamCalculation(trainData=(train_x, train_y), validData=(test_x, test_y), setParamFunc=decTreeParametrizer, iterationsCnt=50)\n",
    "DecTreeParams = decTreeCalculator.calculate(paramsDecTree, testIterationsCnt=30)\n",
    "\n",
    "modelDecTree = decTreeParametrizer(DecTreeParams)\n",
    "modelDecTree.fit(train_x, train_y)\n",
    "result = predictByModel(modelDecTree, test_x, test_y, modelName=\"DecisionTree\", dataType='Test')"
   ]
  }
 ],
 "metadata": {
  "kernelspec": {
   "display_name": "packsVenv",
   "language": "python",
   "name": "python3"
  },
  "language_info": {
   "codemirror_mode": {
    "name": "ipython",
    "version": 3
   },
   "file_extension": ".py",
   "mimetype": "text/x-python",
   "name": "python",
   "nbconvert_exporter": "python",
   "pygments_lexer": "ipython3",
   "version": "3.10.2"
  },
  "orig_nbformat": 4,
  "vscode": {
   "interpreter": {
    "hash": "5ff688f89a0370a5936d2c10a3cf318be4dba0db836fb7ebaf788172d168ae0b"
   }
  }
 },
 "nbformat": 4,
 "nbformat_minor": 2
}
