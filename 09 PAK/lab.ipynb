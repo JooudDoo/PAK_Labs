{
 "cells": [
  {
   "cell_type": "code",
   "execution_count": 39,
   "metadata": {},
   "outputs": [],
   "source": [
    "from HyperparamCalculator import HyperparamCalculation, predictByModel\n",
    "import pandas as pd\n",
    "import numpy as np\n",
    "\n",
    "titanic_data = pd.read_csv(\"data/titanic_prepared.csv\").drop(['Unnamed: 0'], axis=1)\n",
    "\n",
    "titanic_full_df = titanic_data.sample(frac=1, random_state=5)\n",
    "testPart = int(len(titanic_full_df)*0.1)\n",
    "test_df = titanic_full_df[:testPart]\n",
    "train_df = titanic_full_df[testPart:]\n",
    "\n",
    "def divideData(df):\n",
    "    return (df.drop(['label'], axis=1), df.label)\n",
    "\n",
    "test_x, test_y = divideData(test_df)\n",
    "train_x, train_y = divideData(train_df)"
   ]
  },
  {
   "attachments": {},
   "cell_type": "markdown",
   "metadata": {},
   "source": [
    "## Decision Tree"
   ]
  },
  {
   "cell_type": "code",
   "execution_count": 37,
   "metadata": {},
   "outputs": [
    {
     "name": "stdout",
     "output_type": "stream",
     "text": [
      "Лучшая точность (Validation): 90.65%\n",
      "Лучшие параметры (Validation): (6, 'entropy')\n",
      "Точность определения (Test): 90.65% (DecisionTree)\n"
     ]
    }
   ],
   "source": [
    "from sklearn.tree import DecisionTreeClassifier\n",
    "\n",
    "paramsDecTree = {\n",
    "    \"max_depth\": list(range(1, 15)),\n",
    "    \"criterion\": (\"gini\", \"entropy\", \"log_loss\")\n",
    "}\n",
    "\n",
    "decTreeParametrizer = lambda p: DecisionTreeClassifier(max_depth=p[0], criterion=p[1])\n",
    "decTreeCalculator = HyperparamCalculation(trainData=(train_x, train_y), validData=(test_x, test_y), setParamFunc=decTreeParametrizer, iterationsCnt=50)\n",
    "DecTreeParams = decTreeCalculator.calculate(paramsDecTree, testIterationsCnt=30)\n",
    "\n",
    "modelDecTree = decTreeParametrizer(DecTreeParams)\n",
    "modelDecTree.fit(train_x, train_y)\n",
    "result = predictByModel(modelDecTree, test_x, test_y, modelName=\"DecisionTree\", dataType='Test')"
   ]
  },
  {
   "attachments": {},
   "cell_type": "markdown",
   "metadata": {},
   "source": [
    "### С помощью Decision Tree выбрать 2 самых важных признака и проверить точность модели, обученной только на них."
   ]
  },
  {
   "cell_type": "code",
   "execution_count": 40,
   "metadata": {},
   "outputs": [
    {
     "data": {
      "image/png": "[encoded data removed]",
      "text/plain": [
       "<Figure size 640x480 with 1 Axes>"
      ]
     },
     "metadata": {},
     "output_type": "display_data"
    }
   ],
   "source": [
    "import matplotlib.pyplot as plt\n",
    "\n",
    "importanceRandomForest = modelDecTree.feature_importances_\n",
    "features = test_x.columns\n",
    "indices = np.argsort(importanceRandomForest)\n",
    "plt.barh(range(len(indices)), importanceRandomForest[indices], color='b', align='center')\n",
    "plt.yticks(range(len(indices)), features[indices])\n",
    "plt.show()"
   ]
  },
  {
   "cell_type": "code",
   "execution_count": 48,
   "metadata": {},
   "outputs": [
    {
     "name": "stdout",
     "output_type": "stream",
     "text": [
      "Предсказание по тегам: ['morning', 'evening']\n",
      "Точность определения (Test): 89.29% (DecisionTree)\n"
     ]
    }
   ],
   "source": [
    "mostImportantTags = list(features[indices][::-1][:2]) + ['label']\n",
    "\n",
    "modelDecTree_IT = decTreeParametrizer(DecTreeParams)\n",
    "test_x_IT, test_y_IT = divideData(test_df[mostImportantTags])\n",
    "train_x_IT, train_y_IT = divideData(train_df[mostImportantTags])\n",
    "modelDecTree_IT.fit(train_x_IT, train_y_IT)\n",
    "\n",
    "print(f\"Предсказание по тегам: {mostImportantTags[:2]}\")\n",
    "result = predictByModel(modelDecTree_IT, test_x_IT, test_y_IT, modelName=\"DecisionTree\", dataType='Test')"
   ]
  },
  {
   "attachments": {},
   "cell_type": "markdown",
   "metadata": {},
   "source": [
    "## XGBClassifier"
   ]
  },
  {
   "cell_type": "code",
   "execution_count": null,
   "metadata": {},
   "outputs": [
    {
     "name": "stdout",
     "output_type": "stream",
     "text": [
      "Лучшая точность (Validation): 90.8%\n",
      "Лучшие параметры (Validation): (27, 2)\n",
      "Точность определения (Test): 90.8% (XGBoost)\n"
     ]
    }
   ],
   "source": [
    "from xgboost import XGBClassifier\n",
    "\n",
    "paramsXGBoost = {\n",
    "    \"n_estimators\": list(range(1, 30)),\n",
    "    \"max_depth\": list(range(1, 10))\n",
    "}\n",
    "\n",
    "XGBoostParametrize = lambda p: XGBClassifier(n_estimators=p[0], max_depth=p[1])\n",
    "XGBoostCalculator = HyperparamCalculation(trainData=(train_x, train_y), validData=(test_x, test_y), setParamFunc=XGBoostParametrize, iterationsCnt=30)\n",
    "XGBoostParams = XGBoostCalculator.calculate(paramsXGBoost, testIterationsCnt=15)\n",
    "\n",
    "modelXGBoost = XGBoostParametrize(XGBoostParams)\n",
    "modelXGBoost.fit(train_x, train_y)\n",
    "\n",
    "result = predictByModel(modelXGBoost, test_x, test_y, modelName=\"XGBoost\", dataType='Test')"
   ]
  },
  {
   "attachments": {},
   "cell_type": "markdown",
   "metadata": {},
   "source": [
    "## Logistic Regression"
   ]
  },
  {
   "cell_type": "code",
   "execution_count": null,
   "metadata": {},
   "outputs": [
    {
     "name": "stdout",
     "output_type": "stream",
     "text": [
      "Лучшая точность (Validation): 88.99%\n",
      "Лучшие параметры (Validation): (0.3, 'liblinear', 500)\n",
      "Точность определения (Test): 90.8% (LogisticRegression)\n"
     ]
    }
   ],
   "source": [
    "from sklearn.linear_model import LogisticRegression\n",
    "from sklearn.linear_model._sag import ConvergenceWarning\n",
    "\n",
    "paramsLogReg = {\n",
    "    \"C\": [x/100 for x in range(10, 101, 10)],\n",
    "    \"solver\": ['lbfgs', 'liblinear', 'newton-cg', 'newton-cholesky'],\n",
    "    \"max_iter\": [500]\n",
    "}\n",
    "\n",
    "LogRegParametrize = lambda p: LogisticRegression(C=p[0], solver=p[1], max_iter=p[2])\n",
    "LogRegCalculator = HyperparamCalculation(trainData=(train_x, train_y), validData=(test_x, test_y), setParamFunc=LogRegParametrize, iterationsCnt=5)\n",
    "LogRegParams = LogRegCalculator.calculate(paramsLogReg, testIterationsCnt=1)\n",
    "\n",
    "\n",
    "modelLogReg = LogRegParametrize(LogRegParams)\n",
    "modelLogReg.fit(train_x, train_y)\n",
    "\n",
    "result = predictByModel(modelXGBoost, test_x, test_y, modelName=\"LogisticRegression\", dataType=\"Test\")"
   ]
  }
 ],
 "metadata": {
  "kernelspec": {
   "display_name": "packsVenv",
   "language": "python",
   "name": "python3"
  },
  "language_info": {
   "codemirror_mode": {
    "name": "ipython",
    "version": 3
   },
   "file_extension": ".py",
   "mimetype": "text/x-python",
   "name": "python",
   "nbconvert_exporter": "python",
   "pygments_lexer": "ipython3",
   "version": "3.10.2"
  },
  "orig_nbformat": 4,
  "vscode": {
   "interpreter": {
    "hash": "5ff688f89a0370a5936d2c10a3cf318be4dba0db836fb7ebaf788172d168ae0b"
   }
  }
 },
 "nbformat": 4,
 "nbformat_minor": 2
}
