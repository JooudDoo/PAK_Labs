{
 "cells": [
  {
   "cell_type": "code",
   "execution_count": 314,
   "metadata": {},
   "outputs": [],
   "source": [
    "import pandas as pd\n",
    "import numpy as np\n",
    "from sklearn.preprocessing import MinMaxScaler\n",
    "\n",
    "train_full = pd.read_csv(\"data/train.csv\")\n",
    "train_full_df = train_full.drop(['PassengerId', 'Survived', 'Name', 'Ticket', 'Cabin'], axis=1)\n",
    "\n",
    "prepare_data = lambda df: pd.concat(\n",
    "        (df.drop(['Sex', 'Embarked', 'Pclass'], axis=1),\n",
    "        pd.get_dummies(df.Sex),\n",
    "        pd.get_dummies(df.Embarked, prefix='Em'),\n",
    "        pd.get_dummies(df.Pclass, prefix='Pclass')),\n",
    "        axis=1)\n",
    "train_full_df = prepare_data(train_full_df)\n",
    "train_full_df = train_full_df.fillna(train_full_df.median())\n",
    "train_full_df_scaled = MinMaxScaler().fit_transform(train_full_df)\n",
    "\n",
    "def cutData(xs, ys):\n",
    "        count = len(xs)\n",
    "        one_chunk = int(count/5)\n",
    "        train = (xs[:one_chunk*2], np.array(ys[:one_chunk*2]))\n",
    "        test = (xs[one_chunk*2:one_chunk*4], np.array(ys[one_chunk*2:one_chunk*4]))\n",
    "        valid = (xs[one_chunk*4:], np.array(ys[one_chunk*4:]))\n",
    "        return (train, test, valid)\n",
    "\n",
    "(train_x, train_y), (test_x, test_y), (valid_x, valid_y) = cutData(train_full_df_scaled, train_full.Survived)"
   ]
  },
  {
   "cell_type": "code",
   "execution_count": 315,
   "metadata": {},
   "outputs": [],
   "source": [
    "from itertools import product\n",
    "import random\n",
    "\n",
    "class HyperparamCalculation():\n",
    "\n",
    "    def __init__(self,\n",
    "            iterationsCnt,\n",
    "            trainData,\n",
    "            validData,\n",
    "            setParamFunc,\n",
    "            seed=100):\n",
    "        self.bestAccuracy = 0\n",
    "        self.bestParams = None\n",
    "        self.iterationsCnt = iterationsCnt\n",
    "        self.tX, self.tY = trainData\n",
    "        self.vX, self.vY = validData\n",
    "        self.parametrize = setParamFunc\n",
    "        self.seed = seed\n",
    "    \n",
    "    @staticmethod\n",
    "    def calculateAccModel(model, tX, tY):\n",
    "        predict = np.array(model.predict(tX))\n",
    "        precision = len(np.where(predict == tY)[0])/len(tY)\n",
    "        return precision\n",
    "    \n",
    "    def printBest(self):\n",
    "        print(f\"Лучшая точность (Validation): {self.bestAccuracy}\")\n",
    "        print(f\"Лучшие параметры (Validation): {self.bestParams}\")\n",
    "        return self.bestParams\n",
    "\n",
    "    def getParams(self):\n",
    "        return self.bestParams\n",
    "\n",
    "    def nextParamRandom(self, params):\n",
    "        randomSeeded = random.Random(self.seed)\n",
    "        for _ in range(self.iterationsCnt):\n",
    "            yield randomSeeded.choice(params)\n",
    "    \n",
    "    def nextParamIter(self, params):\n",
    "        for param in params:\n",
    "            yield param\n",
    "\n",
    "    @staticmethod\n",
    "    def calculateAverageAccModel(model, trainData, validData, cntIter):\n",
    "        accs = []\n",
    "        for _ in range(cntIter):\n",
    "            model.fit(trainData[0], trainData[1])\n",
    "            accs.append(HyperparamCalculation.calculateAccModel(model, validData[0], validData[1]))\n",
    "        return np.mean(accs)\n",
    "\n",
    "    def calculate(self, params, testIterationsCnt = 15, paramSelector='random'):\n",
    "        params = list(product(*params.values()))\n",
    "        nextParam = self.nextParamRandom\n",
    "        if paramSelector != 'random':\n",
    "            nextParam = self.nextParamIter\n",
    "        for param in nextParam(params):\n",
    "            model = self.parametrize(param)\n",
    "            acc = self.calculateAverageAccModel(model, (self.tX, self.tY), (self.vX, self.vY), testIterationsCnt)\n",
    "            if acc > self.bestAccuracy:\n",
    "                self.bestAccuracy = acc\n",
    "                self.bestParams = param\n",
    "        return self.printBest()"
   ]
  },
  {
   "cell_type": "code",
   "execution_count": 316,
   "metadata": {},
   "outputs": [],
   "source": [
    "def predictByModel(model, tX, tY, modelName : str = 'None', dataType : str = 'None'):\n",
    "    precision = HyperparamCalculation.calculateAccModel(model, tX, tY)\n",
    "    print(f\"Точность определения ({dataType}): {round(precision*100,2)}% ({modelName})\")"
   ]
  },
  {
   "attachments": {},
   "cell_type": "markdown",
   "metadata": {},
   "source": [
    "# Случайный лес"
   ]
  },
  {
   "cell_type": "code",
   "execution_count": 326,
   "metadata": {},
   "outputs": [
    {
     "name": "stdout",
     "output_type": "stream",
     "text": [
      "Лучшая точность (Validation): 0.8374301675977652\n",
      "Лучшие параметры (Validation): (22, 5, 'gini')\n",
      "Точность определения (Test): 78.37% (RandomForest)\n"
     ]
    }
   ],
   "source": [
    "from sklearn.ensemble import RandomForestClassifier\n",
    "\n",
    "paramsRandomForest = {\n",
    "    \"n_estimators\": list(range(1, 30)),\n",
    "    \"max_depth\": list(range(1, 10)),\n",
    "    \"criterion\": [\"gini\", \"entropy\", \"log_loss\"]\n",
    "}\n",
    "\n",
    "randomForestParametrizer = lambda p: RandomForestClassifier(n_estimators=p[0], max_depth=p[1], criterion=p[2])\n",
    "randomForestCalculator = HyperparamCalculation(trainData=(train_x, train_y), validData=(valid_x, valid_y), setParamFunc=randomForestParametrizer, iterationsCnt=50)\n",
    "randomForestParams = randomForestCalculator.calculate(paramsRandomForest, testIterationsCnt=30)\n",
    "\n",
    "modelRandomForest = randomForestParametrizer(randomForestParams)\n",
    "modelRandomForest.fit(train_x, train_y)\n",
    "\n",
    "result = predictByModel(modelRandomForest, test_x, test_y, modelName=\"RandomForest\", dataType='Test')"
   ]
  },
  {
   "attachments": {},
   "cell_type": "markdown",
   "metadata": {},
   "source": [
    "### С помощью RandomForest выберите 2, 4, 8 самых важных признаков и проверьте точность моделей только на этих признаках."
   ]
  },
  {
   "cell_type": "code",
   "execution_count": 318,
   "metadata": {},
   "outputs": [
    {
     "data": {
      "image/png": "[encoded data removed]",
      "text/plain": [
       "<Figure size 640x480 with 1 Axes>"
      ]
     },
     "metadata": {},
     "output_type": "display_data"
    }
   ],
   "source": [
    "import matplotlib.pyplot as plt\n",
    "\n",
    "importanceRandomForest = modelRandomForest.feature_importances_\n",
    "features = train_full_df.columns\n",
    "indices = np.argsort(importanceRandomForest)\n",
    "plt.barh(range(len(indices)), importanceRandomForest[indices], color='b', align='center')\n",
    "plt.yticks(range(len(indices)), features[indices])\n",
    "plt.show()"
   ]
  },
  {
   "cell_type": "code",
   "execution_count": 319,
   "metadata": {},
   "outputs": [
    {
     "name": "stdout",
     "output_type": "stream",
     "text": [
      "Используемые гипер-параметры: (22, 5, 'gini')\n",
      "\n",
      "Признаки: ['female', 'male']\n",
      "Точность определения (Test): 78.37% (RandomForest)\n",
      "==================================================\n",
      "Признаки: ['female', 'male', 'Fare', 'Age']\n",
      "Точность определения (Test): 80.06% (RandomForest)\n",
      "==================================================\n",
      "Признаки: ['female', 'male', 'Fare', 'Age', 'SibSp', 'Pclass_3']\n",
      "Точность определения (Test): 79.78% (RandomForest)\n",
      "==================================================\n",
      "Признаки: ['female', 'male', 'Fare', 'Age', 'SibSp', 'Pclass_3', 'Em_Q', 'Em_S']\n",
      "Точность определения (Test): 79.21% (RandomForest)\n",
      "==================================================\n"
     ]
    }
   ],
   "source": [
    "bestTagsGroups = []\n",
    "for cnt in range(2, 9, 2):\n",
    "    bestTagsGroups.append(list(features[indices][::-1][:cnt]))\n",
    "params = randomForestCalculator.getParams()\n",
    "print(f\"Используемые гипер-параметры: {params}\\n\")\n",
    "\n",
    "for tags in bestTagsGroups:\n",
    "    modelRandomForest = randomForestParametrizer(params)\n",
    "    usedDataScaled = MinMaxScaler().fit_transform(train_full_df[tags])\n",
    "    (train_xC, train_yC), (test_xC, test_yC), _ = cutData(train_full_df_scaled, train_full.Survived)\n",
    "    \n",
    "    modelRandomForest.fit(train_xC, train_yC)\n",
    "    print(f\"Признаки: {tags}\")\n",
    "    result = predictByModel(modelRandomForest, test_xC, test_yC, modelName=\"RandomForest\", dataType='Test')\n",
    "    print(\"=\"*50)"
   ]
  },
  {
   "attachments": {},
   "cell_type": "markdown",
   "metadata": {},
   "source": [
    "# XGBClassifier"
   ]
  },
  {
   "cell_type": "code",
   "execution_count": 320,
   "metadata": {},
   "outputs": [
    {
     "name": "stdout",
     "output_type": "stream",
     "text": [
      "Лучшая точность (Validation): 0.8603351955307263\n",
      "Лучшие параметры (Validation): (15, 9)\n",
      "Точность определения (Test): 81.18% (XGBoost)\n"
     ]
    }
   ],
   "source": [
    "from xgboost import XGBClassifier\n",
    "\n",
    "paramsXGBoost = {\n",
    "    \"n_estimators\": list(range(1, 30)),\n",
    "    \"max_depth\": list(range(1, 10))\n",
    "}\n",
    "\n",
    "XGBoostParametrize = lambda p: XGBClassifier(n_estimators=p[0], max_depth=p[1])\n",
    "XGBoostCalculator = HyperparamCalculation(trainData=(train_x, train_y), validData=(valid_x, valid_y), setParamFunc=XGBoostParametrize, iterationsCnt=30)\n",
    "XGBoostParams = XGBoostCalculator.calculate(paramsXGBoost, testIterationsCnt=30)\n",
    "\n",
    "modelXGBoost = XGBoostParametrize(XGBoostParams)\n",
    "modelXGBoost.fit(train_x, train_y)\n",
    "\n",
    "result = predictByModel(modelXGBoost, test_x, test_y, modelName=\"XGBoost\", dataType='Test')"
   ]
  },
  {
   "attachments": {},
   "cell_type": "markdown",
   "metadata": {},
   "source": [
    "# LogisticRegression"
   ]
  },
  {
   "cell_type": "code",
   "execution_count": 321,
   "metadata": {},
   "outputs": [
    {
     "name": "stdout",
     "output_type": "stream",
     "text": [
      "Лучшая точность (Validation): 0.8100558659217874\n",
      "Лучшие параметры (Validation): (0.5, 'saga')\n",
      "Точность определения (Test): 81.18% (LogisticRegression)\n"
     ]
    }
   ],
   "source": [
    "from sklearn.linear_model import LogisticRegression\n",
    "\n",
    "paramsLogReg = {\n",
    "    \"C\": [x/100 for x in range(10, 101, 10)],\n",
    "    \"solver\": ['lbfgs', 'liblinear', 'newton-cg', 'newton-cholesky', 'sag', 'saga']\n",
    "}\n",
    "\n",
    "LogRegParametrize = lambda p: LogisticRegression(C=p[0], solver=p[1])\n",
    "LogRegCalculator = HyperparamCalculation(trainData=(train_x, train_y), validData=(valid_x, valid_y), setParamFunc=LogRegParametrize, iterationsCnt=30)\n",
    "LogRegParams = LogRegCalculator.calculate(paramsLogReg, testIterationsCnt=30)\n",
    "\n",
    "modelLogReg = LogRegParametrize(LogRegParams)\n",
    "modelLogReg.fit(train_x, train_y)\n",
    "\n",
    "result = predictByModel(modelXGBoost, test_x, test_y, modelName=\"LogisticRegression\", dataType=\"Test\")"
   ]
  },
  {
   "attachments": {},
   "cell_type": "markdown",
   "metadata": {},
   "source": [
    "# KNeighborsClassifier"
   ]
  },
  {
   "cell_type": "code",
   "execution_count": 322,
   "metadata": {},
   "outputs": [
    {
     "name": "stdout",
     "output_type": "stream",
     "text": [
      "Точность определения (Test): 77.25% (KNN)\n"
     ]
    }
   ],
   "source": [
    "from sklearn.neighbors import KNeighborsClassifier\n",
    "\n",
    "modelKNN = KNeighborsClassifier()\n",
    "modelKNN.fit(train_x, train_y)\n",
    "\n",
    "result = predictByModel(modelKNN, test_x, test_y, modelName=\"KNN\", dataType='Test')"
   ]
  }
 ],
 "metadata": {
  "kernelspec": {
   "display_name": "packsVenv",
   "language": "python",
   "name": "python3"
  },
  "language_info": {
   "codemirror_mode": {
    "name": "ipython",
    "version": 3
   },
   "file_extension": ".py",
   "mimetype": "text/x-python",
   "name": "python",
   "nbconvert_exporter": "python",
   "pygments_lexer": "ipython3",
   "version": "3.10.2"
  },
  "orig_nbformat": 4,
  "vscode": {
   "interpreter": {
    "hash": "5ff688f89a0370a5936d2c10a3cf318be4dba0db836fb7ebaf788172d168ae0b"
   }
  }
 },
 "nbformat": 4,
 "nbformat_minor": 2
}
