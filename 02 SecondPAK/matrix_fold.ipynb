{
 "cells": [
  {
   "cell_type": "markdown",
   "metadata": {},
   "source": [
    "# Лабораторная работа 2.2. Операция свёртки\n",
    "## Реализовать скрипт matrix_mult.py\n",
    "\n",
    "### Входные параметры скрипта:\n",
    "\n",
    "* Путь к файлу с матрицами. Например, matrix.txt. Внутри файла заданы две целочисленные матрицы (размер второй матрицы не больше первой).\n",
    "* Путь к файлу с результатом работы программы\n",
    "### Выходные значения: \n",
    "* записывает результирующую матрицу в файл с результатом работы программы\n",
    "\n",
    "Что должен делать скрипт:\n",
    "1) Прочитать файл, используя встроенные функции Python для работы с файлами.\n",
    "2) Преобразовать прочитанные строки в матрицы. Матрицы реализовать используя стандартные типы данных Python. Например, список списков.\n",
    "3) Найти свёртку первой матрицы со второй. Вторую матрицу использовать как ядро свёртки. Не нужно добавлять падинг, не нужно использовать шаг ядра свёртки != 1. Wiki YouTube\n",
    "4) Записать результат произведения в выходной файл."
   ]
  },
  {
   "cell_type": "code",
   "execution_count": 2,
   "metadata": {},
   "outputs": [],
   "source": [
    "from myMatrix import *\n",
    "import argparse\n",
    "\n",
    "cmd_parser = argparse.ArgumentParser(description=\"Matrix fold\")\n",
    "\n",
    "cmd_parser.add_argument('-i', dest='input_file_name', nargs='?',\n",
    "                 help='a file containing matrices')\n",
    "cmd_parser.add_argument('-o', dest='output_file_name', nargs='?',\n",
    "                 help='a file to write result matrice' )\n",
    "\n",
    "args = cmd_parser.parse_args([\"-i\", \"matrfold.txt\", \"-o\", \"matrres.txt\"])\n",
    "\n",
    "matr1, matr2 = read_matrixs_from_file(args.input_file_name)\n",
    "\n",
    "matr1.matrix_fold(matr2).write_matrix_to_file(args.output_file_name)"
   ]
  }
 ],
 "metadata": {
  "kernelspec": {
   "display_name": "Python 3.10.2 64-bit",
   "language": "python",
   "name": "python3"
  },
  "language_info": {
   "codemirror_mode": {
    "name": "ipython",
    "version": 3
   },
   "file_extension": ".py",
   "mimetype": "text/x-python",
   "name": "python",
   "nbconvert_exporter": "python",
   "pygments_lexer": "ipython3",
   "version": "3.10.2"
  },
  "orig_nbformat": 4,
  "vscode": {
   "interpreter": {
    "hash": "2cf155f076a73359a1298dc0a00f49ef22b916380873db02a1df5c4bdf885702"
   }
  }
 },
 "nbformat": 4,
 "nbformat_minor": 2
}
