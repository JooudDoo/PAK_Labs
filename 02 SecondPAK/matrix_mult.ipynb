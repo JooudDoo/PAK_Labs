{
 "cells": [
  {
   "cell_type": "markdown",
   "metadata": {},
   "source": [
    "# Лабораторная работа 2.1. Перемножение матриц\n",
    "Реализовать скрипт matrix_mult.py\n",
    "\n",
    "### Входные параметры скрипта:\n",
    "\n",
    "1. Путь к файлу с матрицами. Например, matrix.txt. Внутри файла заданы две целочисленные матрицы.\n",
    "2. Путь к файлу с результатом работы программы.\n",
    "### Выходные значения:\n",
    "* Записывает результирующую матрицу в файл с результатом работы программы\n",
    "\n",
    "Что должен делать скрипт:\n",
    "1. Прочитать файл, используя встроенные функции Python для работы с файлами.\n",
    "2. Преобразовать прочитанные строки в матрицы. Матрицы реализовать используя стандартные типы данных Python. Например, список списков.\n",
    "3. Найти произведение полученных матриц.\n",
    "4. Записать результат произведения в выходной файл.\n",
    "\n",
    "### Пример матриц в файле:\n",
    "\n",
    "1 2 1 2 0 3 2 4 \\\n",
    "2 3 5 1 3 7 5 2 \\\n",
    "1 3 5 8 2 7 0 0 \\\n",
    "4 5 6 7 2 1 3 5 \n",
    "\n",
    "4 5 5 5 \\\n",
    "1 2 3 3 \\\n",
    "0 0 0 0 \\\n",
    "0 0 1 1 \\\n",
    "1 1 2 2 \\\n",
    "3 2 1 1 \\\n",
    "-2 -3 -1 0 \\\n",
    "1 2 3 1"
   ]
  },
  {
   "cell_type": "code",
   "execution_count": 13,
   "metadata": {},
   "outputs": [],
   "source": [
    "from myMatrix import *\n",
    "import argparse\n",
    "\n",
    "cmd_parser = argparse.ArgumentParser(description=\"Matrix mult\")\n",
    "\n",
    "cmd_parser.add_argument('-i', dest='input_file_name', nargs='?',\n",
    "                 help='a file containing matrices')\n",
    "cmd_parser.add_argument('-o', dest='output_file_name', nargs='?',\n",
    "                 help='a file to write result matrice' )\n",
    "\n",
    "args = cmd_parser.parse_args([\"-i\", \"matr.txt\", \"-o\", \"matrres.txt\"])\n",
    "\n",
    "matr1, matr2 = read_matrixs_from_file(args.input_file_name)\n",
    "matrres = matr1 * matr2\n",
    "matrres.write_matrix_to_file(args.output_file_name)"
   ]
  }
 ],
 "metadata": {
  "kernelspec": {
   "display_name": "Python 3.10.2 64-bit",
   "language": "python",
   "name": "python3"
  },
  "language_info": {
   "codemirror_mode": {
    "name": "ipython",
    "version": 3
   },
   "file_extension": ".py",
   "mimetype": "text/x-python",
   "name": "python",
   "nbconvert_exporter": "python",
   "pygments_lexer": "ipython3",
   "version": "3.10.2"
  },
  "orig_nbformat": 4,
  "vscode": {
   "interpreter": {
    "hash": "2cf155f076a73359a1298dc0a00f49ef22b916380873db02a1df5c4bdf885702"
   }
  }
 },
 "nbformat": 4,
 "nbformat_minor": 2
}
