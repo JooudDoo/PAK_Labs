{
 "cells": [
  {
   "cell_type": "code",
   "execution_count": 1,
   "metadata": {},
   "outputs": [],
   "source": [
    "from numpy import random\n",
    "\n",
    "center_aligment = 50"
   ]
  },
  {
   "cell_type": "code",
   "execution_count": 2,
   "metadata": {},
   "outputs": [
    {
     "name": "stdout",
     "output_type": "stream",
     "text": [
      "                      TASK 1                      \n",
      "Is 'в' a palindrome: True\n"
     ]
    }
   ],
   "source": [
    "print(\"TASK 1\".center(center_aligment))\n",
    "\n",
    "expression = input(\"IsPalindrom? \")\n",
    "isPalindrom = lambda e: e ==e[::-1]\n",
    "print(f\"Is '{expression}' a palindrome: {isPalindrom(expression)}\")"
   ]
  },
  {
   "cell_type": "code",
   "execution_count": 3,
   "metadata": {},
   "outputs": [
    {
     "name": "stdout",
     "output_type": "stream",
     "text": [
      "                      TASK 2                      \n",
      "Longest word is: в\n"
     ]
    }
   ],
   "source": [
    "print(\"TASK 2\".center(center_aligment))\n",
    "\n",
    "expression = input(\"Find longest word: \").strip().split(' ')\n",
    "expression.sort(key=lambda e: len(e))\n",
    "print(f\"Longest word is: {expression[-1]}\")"
   ]
  },
  {
   "cell_type": "code",
   "execution_count": 4,
   "metadata": {},
   "outputs": [
    {
     "name": "stdout",
     "output_type": "stream",
     "text": [
      "                      TASK 3                      \n",
      "numbers: [185, 34, 63, 185, 51, 10, 94, 138, 163, 72, 63, 108, 161, 0, 146, 142, 21, 165, 185, 108, 131, 131, 169, 113, 55, 194, 10, 42, 108, 175, 128, 157, 98, 104, 63, 1, 16, 37, 87, 124, 189, 119, 121, 148, 198, 131, 95, 110, 171, 160]\n",
      "First test:  odd: 27, even: 23\n",
      "Second test: odd: 27, even: 23\n"
     ]
    }
   ],
   "source": [
    "print(\"TASK 3\".center(center_aligment))\n",
    "\n",
    "numbers_list = random.randint(0, 200, 50)\n",
    "even = len([i for i in numbers_list if i % 2 == 0])\n",
    "odd = len(numbers_list) - even\n",
    "print(f\"numbers: {list(numbers_list)}\\nFirst test:  odd: {odd}, even: {even}\")\n",
    "#Another code\n",
    "even = sum(map(lambda x: x % 2 == 0, numbers_list))\n",
    "odd = len(numbers_list) - even\n",
    "print(f\"Second test: odd: {odd}, even: {even}\")\n"
   ]
  },
  {
   "cell_type": "code",
   "execution_count": 5,
   "metadata": {},
   "outputs": [
    {
     "name": "stdout",
     "output_type": "stream",
     "text": [
      "                      TASK 4                      \n",
      "('dog', 'cat')\n",
      "('bird', 'parrot')\n",
      "('elephant', 'mammoth')\n",
      "('monkey', 'human')\n",
      "There was a cat and cat, parrot and mammoth or human\n"
     ]
    }
   ],
   "source": [
    "print(\"TASK 4\".center(center_aligment))\n",
    "\n",
    "def replace(text : str, synonims : dict) -> str:\n",
    "    for e in synonims.items():\n",
    "        text = text.replace(e[0], e[1])\n",
    "    return text\n",
    "\n",
    "diction = {\"dog\": \"cat\", \"bird\":\"parrot\", \"elephant\":\"mammoth\", \"monkey\":\"human\"}\n",
    "text = \"There was a dog and cat, bird and elephant or monkey\"\n",
    "\n",
    "print(replace(text, diction))\n",
    "\n"
   ]
  },
  {
   "cell_type": "code",
   "execution_count": 6,
   "metadata": {},
   "outputs": [
    {
     "name": "stdout",
     "output_type": "stream",
     "text": [
      "                      TASK 5                      \n",
      "34\n"
     ]
    }
   ],
   "source": [
    "print(\"TASK 5\".center(center_aligment))\n",
    "\n",
    "def fib(n : int) -> int:\n",
    "    if(n == 0): return 0\n",
    "    if(n == 1): return 1\n",
    "    return fib(n-1) + fib(n-2)\n",
    "\n",
    "print(fib(9))"
   ]
  },
  {
   "cell_type": "code",
   "execution_count": 7,
   "metadata": {},
   "outputs": [
    {
     "name": "stdout",
     "output_type": "stream",
     "text": [
      "                      TASK 6                      \n"
     ]
    },
    {
     "ename": "FileNotFoundError",
     "evalue": "[Errno 2] No such file or directory: 'в'",
     "output_type": "error",
     "traceback": [
      "\u001b[1;31m---------------------------------------------------------------------------\u001b[0m",
      "\u001b[1;31mFileNotFoundError\u001b[0m                         Traceback (most recent call last)",
      "Cell \u001b[1;32mIn [7], line 5\u001b[0m\n\u001b[0;32m      1\u001b[0m \u001b[39mprint\u001b[39m(\u001b[39m\"\u001b[39m\u001b[39mTASK 6\u001b[39m\u001b[39m\"\u001b[39m\u001b[39m.\u001b[39mcenter(center_aligment))\n\u001b[0;32m      3\u001b[0m file_name \u001b[39m=\u001b[39m \u001b[39minput\u001b[39m(\u001b[39m\"\u001b[39m\u001b[39mFile name to calculate: \u001b[39m\u001b[39m\"\u001b[39m)\u001b[39m.\u001b[39mstrip()\n\u001b[1;32m----> 5\u001b[0m \u001b[39mwith\u001b[39;00m \u001b[39mopen\u001b[39;49m(file_name, \u001b[39m\"\u001b[39;49m\u001b[39mr\u001b[39;49m\u001b[39m\"\u001b[39;49m) \u001b[39mas\u001b[39;00m file:\n\u001b[0;32m      6\u001b[0m     cnt_lines, cnt_words, cnt_symbols \u001b[39m=\u001b[39m \u001b[39m0\u001b[39m, \u001b[39m0\u001b[39m, \u001b[39m0\u001b[39m\n\u001b[0;32m      7\u001b[0m     file_content \u001b[39m=\u001b[39m file\u001b[39m.\u001b[39mreadlines()\n",
      "\u001b[1;31mFileNotFoundError\u001b[0m: [Errno 2] No such file or directory: 'в'"
     ]
    }
   ],
   "source": [
    "print(\"TASK 6\".center(center_aligment))\n",
    "\n",
    "file_name = input(\"File name to calculate: \").strip()\n",
    "\n",
    "with open(file_name, \"r\") as file:\n",
    "    cnt_lines, cnt_words, cnt_symbols = 0, 0, 0\n",
    "    file_content = file.readlines()\n",
    "    cnt_lines = len(file_content)\n",
    "    for line in file_content:\n",
    "        for word in line.split(' '):\n",
    "            cnt_words+=1\n",
    "            for symbol in word:\n",
    "                cnt_symbols +=1\n",
    "        cnt_symbols += len(line.split(' ')) - 1 #Считаем пробелы\n",
    "print(f\"Count of lines: {cnt_lines}\\nCount of words: {cnt_words}\\nCount of symbols: {cnt_symbols}\")\n"
   ]
  },
  {
   "cell_type": "code",
   "execution_count": null,
   "metadata": {},
   "outputs": [],
   "source": [
    "print(\"TASK 7\".center(center_aligment))\n",
    "\n",
    "def generate_progres(q, elem, cnt_elems):\n",
    "    for m in range(cnt_elems):\n",
    "        yield elem\n",
    "        elem *= q\n",
    "\n",
    "elem, q, cnt_elems = [int(x) for x in input(\"Введите первый член прогрессии, коэффицент q, до какого члена вывести прогрессию. (Вводить через пробел) \").split(' ') if x != '']\n",
    "for i in generate_progres(q, elem, cnt_elems):\n",
    "    print (i, end=' ')\n"
   ]
  }
 ],
 "metadata": {
  "kernelspec": {
   "display_name": "Python 3.10.2 64-bit",
   "language": "python",
   "name": "python3"
  },
  "language_info": {
   "codemirror_mode": {
    "name": "ipython",
    "version": 3
   },
   "file_extension": ".py",
   "mimetype": "text/x-python",
   "name": "python",
   "nbconvert_exporter": "python",
   "pygments_lexer": "ipython3",
   "version": "3.10.2"
  },
  "orig_nbformat": 4,
  "vscode": {
   "interpreter": {
    "hash": "2cf155f076a73359a1298dc0a00f49ef22b916380873db02a1df5c4bdf885702"
   }
  }
 },
 "nbformat": 4,
 "nbformat_minor": 2
}
