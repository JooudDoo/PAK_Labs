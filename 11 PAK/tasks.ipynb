{
 "cells": [
  {
   "cell_type": "code",
   "execution_count": 7,
   "metadata": {},
   "outputs": [],
   "source": [
    "from typing import Callable\n",
    "\n",
    "import numpy as np\n",
    "from tqdm import tqdm\n",
    "import torch\n",
    "import torch.nn as nn\n",
    "from torch.utils.data import Dataset, DataLoader"
   ]
  },
  {
   "cell_type": "code",
   "execution_count": 8,
   "metadata": {},
   "outputs": [],
   "source": [
    "SimpleModel : Callable[[int, int], nn.Module] = lambda in_s, out_s: nn.Sequential(\n",
    "    nn.Linear(in_s, 32),\n",
    "    nn.ReLU(),\n",
    "    nn.Linear(32, out_s, bias=False),\n",
    "    nn.ReLU()\n",
    ")\n",
    "\n",
    "model = SimpleModel(64,10)\n"
   ]
  }
 ],
 "metadata": {
  "kernelspec": {
   "display_name": "packsVenv",
   "language": "python",
   "name": "python3"
  },
  "language_info": {
   "codemirror_mode": {
    "name": "ipython",
    "version": 3
   },
   "file_extension": ".py",
   "mimetype": "text/x-python",
   "name": "python",
   "nbconvert_exporter": "python",
   "pygments_lexer": "ipython3",
   "version": "3.10.2"
  },
  "orig_nbformat": 4,
  "vscode": {
   "interpreter": {
    "hash": "5ff688f89a0370a5936d2c10a3cf318be4dba0db836fb7ebaf788172d168ae0b"
   }
  }
 },
 "nbformat": 4,
 "nbformat_minor": 2
}
