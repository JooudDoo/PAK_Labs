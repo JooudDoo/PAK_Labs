{
 "cells": [
  {
   "cell_type": "code",
   "execution_count": 1,
   "metadata": {},
   "outputs": [],
   "source": [
    "import torch\n",
    "import torch.nn as nn\n"
   ]
  },
  {
   "attachments": {},
   "cell_type": "markdown",
   "metadata": {},
   "source": [
    "<image src=\"im1.png\">"
   ]
  },
  {
   "cell_type": "code",
   "execution_count": 19,
   "metadata": {},
   "outputs": [
    {
     "name": "stdout",
     "output_type": "stream",
     "text": [
      "tensor([[[ 4.,  2.,  0.],\n",
      "         [ 1.,  0.,  3.],\n",
      "         [-2.,  2.,  6.]]])\n"
     ]
    }
   ],
   "source": [
    "matr = torch.Tensor(\n",
    "    [[[1, 2, 1],\n",
    "      [2, 4, 2],\n",
    "      [1, 2, 1]],\n",
    "     [[-1, 0, 1],\n",
    "     [0, 0, 0],\n",
    "     [1, 0, -1]],\n",
    "     [[0, 1, 0],\n",
    "     [1, 2, 1],\n",
    "     [0, 1, 0]]])\n",
    "\n",
    "kernel = torch.Tensor(\n",
    "    [[[1, 0],\n",
    "      [0, 1]],\n",
    "     [[0, -1],\n",
    "      [-1, 0]],\n",
    "     [[1, -1],\n",
    "        [0, 0]]\n",
    "     ]).view(1, 3,2,2)\n",
    "\n",
    "\n",
    "res = nn.functional.conv2d(matr, kernel, padding=1, dilation=2)\n",
    "\n",
    "\n",
    "print(res)\n"
   ]
  },
  {
   "attachments": {},
   "cell_type": "markdown",
   "metadata": {},
   "source": [
    "<image src=\"im2.png\">\n"
   ]
  },
  {
   "cell_type": "code",
   "execution_count": 7,
   "metadata": {},
   "outputs": [
    {
     "name": "stdout",
     "output_type": "stream",
     "text": [
      "55\n",
      "------------------------------------------------------------------------------\n",
      "        Layer (type)    map size      start       jump receptive_field \n",
      "==============================================================================\n",
      "        0             [1000, 1000]        0.5        1.0             1.0 \n",
      "        1             [994, 994]        3.5        1.0             7.0 \n",
      "        2             [496, 496]        4.5        2.0             9.0 \n",
      "        3             [248, 248]        5.5        4.0            11.0 \n",
      "        4             [244, 244]        9.5        4.0            27.0 \n",
      "        5               [81, 81]       13.5       12.0            35.0 \n",
      "==============================================================================\n"
     ]
    }
   ],
   "source": [
    "from dataclasses import dataclass\n",
    "\n",
    "\n",
    "@dataclass\n",
    "class LayerInfo():\n",
    "    kernelSize: int\n",
    "    padding: int\n",
    "    stride: int\n",
    "    dilation: int\n",
    "\n",
    "\n",
    "def getLayers() -> list[LayerInfo]:\n",
    "    layer1 = LayerInfo(7, 3, 1, 1)\n",
    "    layer2 = LayerInfo(3, 1, 2, 1)\n",
    "    layer3 = LayerInfo(2, 0, 2, 1)\n",
    "    layer4 = LayerInfo(3, 100500, 1, 2)\n",
    "    layer5 = LayerInfo(3, 28, 3, 1)\n",
    "    return list(locals().values())\n",
    "\n",
    "\n",
    "stridesM = 1\n",
    "receptiveField = 1\n",
    "for id, layer in enumerate(getLayers()):\n",
    "    stridesM *= layer.stride\n",
    "    receptiveField += stridesM * ((layer.dilation * (layer.kernelSize-1)))\n",
    "print(receptiveField)\n",
    "\n",
    "from torch_receptive_field import receptive_field\n",
    "\n",
    "model = nn.Sequential(\n",
    "    nn.Conv2d(1, 1, 7, 1, 0, 1),\n",
    "    nn.Conv2d(1, 1, 3, 2, 0, 1),\n",
    "    nn.MaxPool2d(2, 2, 0),\n",
    "    nn.Conv2d(1, 1, 3, 1, 0, 2),\n",
    "    nn.MaxPool2d(3, 3, 0)\n",
    ")\n",
    "model.cuda()\n",
    "dict = receptive_field(model, input_size=(1, 1000, 1000))"
   ]
  },
  {
   "attachments": {},
   "cell_type": "markdown",
   "metadata": {},
   "source": [
    "<img src=\"im3.png\">"
   ]
  },
  {
   "cell_type": "code",
   "execution_count": 34,
   "metadata": {},
   "outputs": [
    {
     "name": "stdout",
     "output_type": "stream",
     "text": [
      "torch.Size([1, 26, 26])\n"
     ]
    }
   ],
   "source": [
    "image = torch.empty((1, 224, 224))\n",
    "\n",
    "conveyor = nn.Sequential(\n",
    "    nn.Conv2d(in_channels=1, out_channels=1,\n",
    "              kernel_size=7, stride=2, padding=3),\n",
    "    nn.Conv2d(in_channels=1, out_channels=1, kernel_size=3, padding=1),\n",
    "    nn.MaxPool2d(2, stride=2),\n",
    "    nn.Conv2d(in_channels=1, out_channels=1, kernel_size=3,\n",
    "              padding=1, stride=2, dilation=3)\n",
    ")\n",
    "\n",
    "print(conveyor(image).shape)\n"
   ]
  }
 ],
 "metadata": {
  "kernelspec": {
   "display_name": "packsVenv",
   "language": "python",
   "name": "python3"
  },
  "language_info": {
   "codemirror_mode": {
    "name": "ipython",
    "version": 3
   },
   "file_extension": ".py",
   "mimetype": "text/x-python",
   "name": "python",
   "nbconvert_exporter": "python",
   "pygments_lexer": "ipython3",
   "version": "3.10.2"
  },
  "orig_nbformat": 4,
  "vscode": {
   "interpreter": {
    "hash": "5ff688f89a0370a5936d2c10a3cf318be4dba0db836fb7ebaf788172d168ae0b"
   }
  }
 },
 "nbformat": 4,
 "nbformat_minor": 2
}
