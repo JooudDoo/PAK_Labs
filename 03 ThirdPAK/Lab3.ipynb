{
 "cells": [
  {
   "cell_type": "markdown",
   "metadata": {},
   "source": [
    "# Лабораторная работа 3. ООП.\n",
    "1. Реализовать два класса ****Pupa**** и ****Lupa****. И класс ****Accountant****.\n",
    "2. Класс **Accountant** должен уметь одинаково успешно работать и с экземплярами класса **Pupa** и с экземплярами класса **Lupa**. У класса **Accountant** должен быть метод give_salary(worker). Который, получая на вход экземпляр классов **Pupa** или **Lupa**, вызывает у них метод take_salary(int). Необходимо придумать как реализовать такое поведение. Метод take_salary инкрементирует внутренний счётчик у каждого экземпляра класса на переданное ему значение.\n",
    "3. При этом **Pupa** и **Lupa** два датасайнтиста и должны работать с матрицами. У них есть метод do_work(filename1, filename2). **Pupa** считывают из обоих переданных ему файлов по матрице и поэлементно их суммируют. **Lupa** считывают из обоих переданных ему файлов по матрице и поэлементно их вычитают. Работники обоих типов выводят результат своих трудов на экран.\n",
    "4. Класс **Accountant** реализует логику начисления ЗП на ваше усмотрение, но будьте внимательны чтобы не получилось так, что **Lupa** получит за **Pupa**, а **Pupa** ничего не получит."
   ]
  },
  {
   "cell_type": "code",
   "execution_count": 2,
   "metadata": {},
   "outputs": [
    {
     "name": "stdout",
     "output_type": "stream",
     "text": [
      "[2, 4, 6]\n",
      "[8, 10, 12]\n",
      "[14, 16, 18]\n",
      "\n",
      "[0, 0, 0]\n",
      "[0, 0, 0]\n",
      "[0, 0, 0]\n",
      "\n"
     ]
    }
   ],
   "source": [
    "from myMatrix import *\n",
    "\n",
    "class Worker:\n",
    "    def __init__(self, money=0):\n",
    "        self._money = money\n",
    "    \n",
    "    def take_salary(self, money: int | float):\n",
    "        if money >= 0:\n",
    "            self._money += money\n",
    "            return True\n",
    "        return False\n",
    "    \n",
    "    def __str__(self):\n",
    "        return \"I'm worker\"\n",
    "\n",
    "    def do_work(self):\n",
    "        return None\n",
    "\n",
    "class Accountant(Worker):\n",
    "    def give_salary(self, worker : Worker, money : int | float):\n",
    "        worker.take_salary(money)\n",
    "\n",
    "class Pupa(Worker):\n",
    "    def do_work(self, file1, file2):\n",
    "        matr1 = read_matrixs_from_file(file1)[0]\n",
    "        matr2 = read_matrixs_from_file(file2)[0]\n",
    "        return matr1 + matr2\n",
    "\n",
    "    def __str__(self):\n",
    "        return \"I'm Pupa\"\n",
    "\n",
    "class Lupa(Worker):\n",
    "    def do_work(self, file1, file2):\n",
    "        matr1 = read_matrixs_from_file(file1)[0]\n",
    "        matr2 = read_matrixs_from_file(file2)[0]\n",
    "        return matr1 - matr2\n",
    "\n",
    "    def __str__(self):\n",
    "        return \"I'm Lupa\"\n",
    "\n",
    "if __name__ == '__main__':\n",
    "    acc = Accountant()\n",
    "    lupa = Lupa()\n",
    "    pupa = Pupa()\n",
    "    acc.give_salary(lupa, 100)\n",
    "    acc.give_salary(pupa, 1000)\n",
    "\n",
    "    print(pupa.do_work(\"matr.txt\", \"matr.txt\"))\n",
    "    print(lupa.do_work(\"matr.txt\", \"matr.txt\"))\n",
    "\n"
   ]
  }
 ],
 "metadata": {
  "kernelspec": {
   "display_name": "Python 3.10.2 64-bit",
   "language": "python",
   "name": "python3"
  },
  "language_info": {
   "codemirror_mode": {
    "name": "ipython",
    "version": 3
   },
   "file_extension": ".py",
   "mimetype": "text/x-python",
   "name": "python",
   "nbconvert_exporter": "python",
   "pygments_lexer": "ipython3",
   "version": "3.10.2"
  },
  "orig_nbformat": 4,
  "vscode": {
   "interpreter": {
    "hash": "2cf155f076a73359a1298dc0a00f49ef22b916380873db02a1df5c4bdf885702"
   }
  }
 },
 "nbformat": 4,
 "nbformat_minor": 2
}
