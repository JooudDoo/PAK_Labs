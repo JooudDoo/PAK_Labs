{
 "cells": [
  {
   "cell_type": "markdown",
   "metadata": {},
   "source": [
    "# Лабораторные работы\n",
    "## Категорически нельзя использовать циклы ни в каком виде!!! Только функционал Numpy.\n",
    "\n",
    "### Лабораторная работа 4.1. Выбор случайных элементов массива\n",
    "Есть два набора данных: реальные и синтетические. Допустим, мы хотим обучить некоторую ML модель на смеси реальных и синтетических данных. При этом синтетические данные должны браться с вероятностью P. Важно сохранять порядок входных чисел. Например: Для массивов: [1,2,3,4,5,7,8,9,10] и [-1,-2,-3,-4,-5,-6,-7,-8,-9,-10] и P=0.2  \n",
    "Один из вариантов возвращаемого значения: [1,-2,3,4,-5,6,7,8,9,10]  \n",
    "\n",
    "Массивы реальных и синтетических данных одинаковой длины.\n",
    "\n",
    "Реализовать скрипт random_select.py\n",
    "Входные параметры скрипта: пути к двум файлам со списком целых чисел в каждом. Например file_1.txt содержит:\n",
    "1 2 3 4 5 6 7\n",
    "а file_2.txt\n",
    "-1 -2 -3 -4 -5 -6 -7\n",
    "\n",
    "Также в качестве аргумента командной строки передаётся вероятность P от 0 до 1.\n",
    "Результат перемешивания массивов вывести на экран.\n",
    "\n",
    "## Лабораторная работа 4.2. Выбор случайных элементов массива\n",
    "Реализовать ЛР 4.1 двумя различными способами.\n",
    "\n",
    "## Лабораторная работа 4.3 (Бонус для первых 3 человек). Выбор случайных элементов массива\n",
    "Реализовать ЛР 4.1 тремя различными способами."
   ]
  },
  {
   "cell_type": "code",
   "execution_count": 15,
   "metadata": {},
   "outputs": [],
   "source": [
    "from argparse import ArgumentParser\n",
    "import numpy as np\n",
    "from numpy import random"
   ]
  },
  {
   "cell_type": "code",
   "execution_count": 275,
   "metadata": {},
   "outputs": [],
   "source": [
    "def first(l1, l2, P : float) -> np.array:\n",
    "    def fun(arr):\n",
    "        return random.choice(arr, size=1, p=[1-P, P])\n",
    "    l12 = np.stack((l1,l2), axis=1)\n",
    "    return np.apply_along_axis(func1d=fun, axis=1, arr=l12).ravel()\n",
    "\n",
    "def second(l1, l2, P : float) -> np.array:\n",
    "    res = map(lambda x: x[0] if random.random()>=P else x[1],\n",
    "                 zip(list(l1), list(l2)))\n",
    "    return np.array(list(res))\n",
    "\n",
    "def third(l1, l2, P : float) -> np.array:\n",
    "    choices = random.random(size=len(l1))\n",
    "    return np.where([choices>=P], l1,l2).ravel()"
   ]
  },
  {
   "cell_type": "code",
   "execution_count": 286,
   "metadata": {},
   "outputs": [
    {
     "name": "stdout",
     "output_type": "stream",
     "text": [
      "['-1' '2' '3' '-4' '5' '6' '7' '-8' '9' '10']\n",
      "['1' '2' '-3' '4' '5' '6' '7' '-8' '9' '10']\n",
      "['1' '-2' '-3' '4' '5' '-6' '7' '8' '9' '-10']\n"
     ]
    }
   ],
   "source": [
    "argparser = ArgumentParser()\n",
    "argparser.add_argument('-f1', dest='file1', nargs='?')\n",
    "argparser.add_argument('-f2', dest='file2', nargs='?')\n",
    "argparser.add_argument('-P', dest='P', nargs='?', type=float)\n",
    "args = argparser.parse_args([\"-f1\", \"test.txt\", '-f2', \"test1.txt\", \"-P\", '0.2'])\n",
    "\n",
    "lst1, lst2 = [], []\n",
    "with open(args.file1, 'r') as f:\n",
    "    lst1 =  np.array(f.readline().split())\n",
    "with open(args.file2, 'r') as f:\n",
    "    lst2 =  np.array(f.readline().split())\n",
    "\n",
    "print(first (lst1.copy(), lst2.copy(), args.P))\n",
    "print(second(lst1.copy(), lst2.copy(), args.P))\n",
    "print(third (lst1.copy(), lst2.copy(), args.P))"
   ]
  }
 ],
 "metadata": {
  "kernelspec": {
   "display_name": "Python 3.10.2 64-bit",
   "language": "python",
   "name": "python3"
  },
  "language_info": {
   "codemirror_mode": {
    "name": "ipython",
    "version": 3
   },
   "file_extension": ".py",
   "mimetype": "text/x-python",
   "name": "python",
   "nbconvert_exporter": "python",
   "pygments_lexer": "ipython3",
   "version": "3.10.2"
  },
  "orig_nbformat": 4,
  "vscode": {
   "interpreter": {
    "hash": "2cf155f076a73359a1298dc0a00f49ef22b916380873db02a1df5c4bdf885702"
   }
  }
 },
 "nbformat": 4,
 "nbformat_minor": 2
}
