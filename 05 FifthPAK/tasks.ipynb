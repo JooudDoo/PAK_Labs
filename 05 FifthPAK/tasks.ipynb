{
 "cells": [
  {
   "cell_type": "code",
   "execution_count": null,
   "metadata": {},
   "outputs": [],
   "source": [
    "import numpy as np\n",
    "import pandas as pd\n",
    "ALIGMENT = 50\n",
    "def tHeader(num : int):\n",
    "    print(f\"TASK {num}\".center(ALIGMENT,'-'))"
   ]
  },
  {
   "cell_type": "code",
   "execution_count": null,
   "metadata": {},
   "outputs": [],
   "source": [
    "tHeader(1)\n",
    "\n",
    "data = np.random.random(size=(10,5))\n",
    "column_names = [chr(x) for x in range(ord('a'), ord('a')+data.shape[1])]\n",
    "averages = [np.mean(x, where=[m > 0.3 for m in x]) for x in data]\n",
    "data = np.column_stack((data, averages))\n",
    "df = pd.DataFrame(data, columns=column_names + ['averages'])\n",
    "df"
   ]
  },
  {
   "cell_type": "code",
   "execution_count": null,
   "metadata": {},
   "outputs": [],
   "source": [
    "tHeader(2)\n",
    "from dateutil.relativedelta import relativedelta\n",
    "\n",
    "def months_diff(df):\n",
    "    startProd, endProd = pd.to_datetime(df[['FirstProductionDate', 'CompletionDate']])\n",
    "    df['FullMonthsFromStartToEnd'] = relativedelta(endProd, startProd).months\n",
    "    return df\n",
    "\n",
    "df = pd.read_csv('wells_info.csv')\n",
    "df.insert(5, 'FullMonthsFromStartToEnd', '')\n",
    "df.apply(months_diff, axis=1)\n"
   ]
  },
  {
   "cell_type": "code",
   "execution_count": null,
   "metadata": {},
   "outputs": [],
   "source": [
    "tHeader(3)\n",
    "\n",
    "from statistics import mode\n",
    "df = pd.read_csv('wells_info_na.csv')\n",
    "\n",
    "def remove_nans(column):\n",
    "    if column.dtype == np.float64:\n",
    "        swap_val = np.nanmedian(column)\n",
    "    else:\n",
    "        no_nan = list(filter(lambda x: x==x, column))\n",
    "        swap_val = mode(no_nan)\n",
    "    return column.fillna(swap_val)\n",
    "\n",
    "df.apply(remove_nans)"
   ]
  },
  {
   "cell_type": "code",
   "execution_count": null,
   "metadata": {},
   "outputs": [],
   "source": [
    "tHeader(4)\n",
    "\n",
    "def sum_by12(df):\n",
    "    total_liq = sum(df[:12][\"Liquid\"])\n",
    "    total_gas = sum(df[:12][\"Gas\"])\n",
    "    out = pd.Series(data=[total_liq,total_gas], index=['Liquid By 12 months', 'Gas By 12 months'], dtype=object)\n",
    "    return out\n",
    "\n",
    "wells_info = pd.read_csv(\"wells_info.csv\")\n",
    "prod_info  = pd.read_csv(\"production.csv\")\n",
    "\n",
    "total_prod_by_api = prod_info[[\"API\", \"Liquid\", \"Gas\"]].groupby(\"API\").sum()\n",
    "m12_prod_by_api   = prod_info[[\"API\", \"Liquid\", \"Gas\"]].groupby(\"API\").apply(sum_by12)\n",
    "pd.merge(wells_info, pd.merge(total_prod_by_api, m12_prod_by_api, on='API'), on='API')"
   ]
  }
 ],
 "metadata": {
  "kernelspec": {
   "display_name": "Python 3.10.2 64-bit",
   "language": "python",
   "name": "python3"
  },
  "language_info": {
   "codemirror_mode": {
    "name": "ipython",
    "version": 3
   },
   "file_extension": ".py",
   "mimetype": "text/x-python",
   "name": "python",
   "nbconvert_exporter": "python",
   "pygments_lexer": "ipython3",
   "version": "3.10.2"
  },
  "orig_nbformat": 4,
  "vscode": {
   "interpreter": {
    "hash": "2cf155f076a73359a1298dc0a00f49ef22b916380873db02a1df5c4bdf885702"
   }
  }
 },
 "nbformat": 4,
 "nbformat_minor": 2
}
