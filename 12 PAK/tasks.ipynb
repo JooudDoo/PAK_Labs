{
 "cells": [
  {
   "cell_type": "code",
   "execution_count": 1,
   "metadata": {},
   "outputs": [
    {
     "name": "stderr",
     "output_type": "stream",
     "text": [
      "/home/e.babenko1/miniconda3/envs/AIenv/lib/python3.9/site-packages/tqdm/auto.py:21: TqdmWarning: IProgress not found. Please update jupyter and ipywidgets. See https://ipywidgets.readthedocs.io/en/stable/user_install.html\n",
      "  from .autonotebook import tqdm as notebook_tqdm\n"
     ]
    }
   ],
   "source": [
    "import numpy as np\n",
    "\n",
    "import torch\n",
    "import torch.nn as nn\n",
    "from torch.utils.data.sampler import SubsetRandomSampler\n",
    "\n",
    "from sklearn.model_selection import train_test_split\n",
    "\n",
    "from torchvision import datasets, transforms\n",
    "import torchinfo "
   ]
  },
  {
   "cell_type": "code",
   "execution_count": 2,
   "metadata": {},
   "outputs": [
    {
     "name": "stdout",
     "output_type": "stream",
     "text": [
      "Files already downloaded and verified\n",
      "Files already downloaded and verified\n",
      "Files already downloaded and verified\n"
     ]
    }
   ],
   "source": [
    "transform = transforms.Compose([\n",
    "    transforms.ToTensor(),\n",
    "    transforms.Normalize((0.5, 0.5, 0.5), (0.5, 0.5, 0.5))],\n",
    ")\n",
    "\n",
    "train_transform = transforms.Compose([\n",
    "    transforms.ToTensor(),\n",
    "    transforms.Normalize((0.5, 0.5, 0.5), (0.5, 0.5, 0.5)),\n",
    "    transforms.RandomCrop(32, padding=4, padding_mode='reflect'),\n",
    "    transforms.RandomHorizontalFlip()]\n",
    ")\n",
    "batch_size = 128\n",
    "classes = ('plane', 'car', 'bird', 'cat', 'deer',\n",
    "           'dog', 'frog', 'horse', 'ship', 'truck')\n",
    "epochs = 35\n",
    "\n",
    "device = torch.device(\"cuda:0\" if torch.cuda.is_available() else \"cpu\")\n",
    "\n",
    "train_set = datasets.CIFAR10(\n",
    "    root='./dataset', train=True, download=True, transform=train_transform)\n",
    "valid_set = datasets.CIFAR10(\n",
    "    root='./dataset', train=True, download=True, transform=train_transform)\n",
    "test_set = datasets.CIFAR10(\n",
    "    root='./dataset', train=False, download=True, transform=transform)\n",
    "\n",
    "train_idx, valid_idx   = train_test_split(range(len(train_set)), test_size=0.2, train_size=0.8)\n",
    "# idxs = list(range(len(train_set)))\n",
    "# split = int(np.floor(0.2*len(train_set)))\n",
    "# valid_idx, train_idx = idxs[:split], idxs[split:]\n",
    "\n",
    "train_sampler = SubsetRandomSampler(train_idx)\n",
    "valid_sampler = SubsetRandomSampler(valid_idx)\n",
    "num_workers = 2\n",
    "\n",
    "train_loader = torch.utils.data.DataLoader(\n",
    "    train_set, batch_size=batch_size, num_workers=num_workers, sampler=train_sampler)\n",
    "valid_loader = torch.utils.data.DataLoader(\n",
    "    valid_set, batch_size=batch_size, num_workers=num_workers, sampler=valid_sampler)\n",
    "test_loader = torch.utils.data.DataLoader(\n",
    "    test_set, batch_size=batch_size, num_workers=num_workers)\n"
   ]
  },
  {
   "cell_type": "code",
   "execution_count": 3,
   "metadata": {},
   "outputs": [],
   "source": [
    "class Model(nn.Module):\n",
    "    def __init__(self):\n",
    "        super().__init__()\n",
    "        self.conv1 = nn.Sequential(\n",
    "            nn.Conv2d(3, 64, 3, padding=1),\n",
    "            nn.BatchNorm2d(64),\n",
    "            nn.ReLU(True)\n",
    "        )\n",
    "\n",
    "        self.conv2 = nn.Sequential(\n",
    "            nn.Conv2d(64, 128, 3, padding=1),\n",
    "            nn.BatchNorm2d(128),\n",
    "            nn.ReLU(True),\n",
    "            nn.MaxPool2d(2)\n",
    "        )\n",
    "\n",
    "        self.shuffle1 = nn.Sequential(nn.Sequential(\n",
    "            nn.Conv2d(128, 128, 3, padding=1),\n",
    "            nn.BatchNorm2d(128),\n",
    "            nn.ReLU(True)\n",
    "        ), nn.Sequential(\n",
    "            nn.Conv2d(128, 128, 3, padding=1),\n",
    "            nn.BatchNorm2d(128),\n",
    "            nn.ReLU(True))\n",
    "        )\n",
    "\n",
    "        self.conv3 = nn.Sequential(\n",
    "            nn.Conv2d(128, 256, 3, padding=1),\n",
    "            nn.BatchNorm2d(256),\n",
    "            nn.ReLU(True),\n",
    "            nn.MaxPool2d(2)\n",
    "        )\n",
    "\n",
    "        self.conv4 = nn.Sequential(\n",
    "            nn.Conv2d(256, 512, 3, padding=1),\n",
    "            nn.BatchNorm2d(512),\n",
    "            nn.ReLU(True),\n",
    "            nn.MaxPool2d(2)\n",
    "        )\n",
    "\n",
    "        self.shuffle2 = nn.Sequential(nn.Sequential(\n",
    "            nn.Conv2d(512, 512, 3, padding=1),\n",
    "            nn.BatchNorm2d(512),\n",
    "            nn.ReLU(True)\n",
    "        ), nn.Sequential(\n",
    "            nn.Conv2d(512, 512,3, padding=1),\n",
    "            nn.BatchNorm2d(512),\n",
    "            nn.ReLU(True))\n",
    "        )\n",
    "\n",
    "        self.res = nn.Sequential(\n",
    "            nn.MaxPool2d(4),\n",
    "            nn.Flatten(),\n",
    "            nn.Linear(512, len(classes))\n",
    "        )\n",
    "\n",
    "    def forward(self, x):\n",
    "        x = self.conv1(x)\n",
    "        x = self.conv2(x)\n",
    "        x = self.shuffle1(x) + x\n",
    "        x = self.conv3(x)\n",
    "        x = self.conv4(x)\n",
    "        x = self.shuffle2(x) + x\n",
    "        x = self.res(x)\n",
    "        return x\n"
   ]
  },
  {
   "cell_type": "code",
   "execution_count": 4,
   "metadata": {},
   "outputs": [
    {
     "name": "stdout",
     "output_type": "stream",
     "text": [
      "==========================================================================================\n",
      "Layer (type:depth-idx)                   Output Shape              Param #\n",
      "==========================================================================================\n",
      "Model                                    [128, 10]                 --\n",
      "├─Sequential: 1-1                        [128, 64, 32, 32]         --\n",
      "│    └─Conv2d: 2-1                       [128, 64, 32, 32]         1,792\n",
      "│    └─BatchNorm2d: 2-2                  [128, 64, 32, 32]         128\n",
      "│    └─ReLU: 2-3                         [128, 64, 32, 32]         --\n",
      "├─Sequential: 1-2                        [128, 128, 16, 16]        --\n",
      "│    └─Conv2d: 2-4                       [128, 128, 32, 32]        73,856\n",
      "│    └─BatchNorm2d: 2-5                  [128, 128, 32, 32]        256\n",
      "│    └─ReLU: 2-6                         [128, 128, 32, 32]        --\n",
      "│    └─MaxPool2d: 2-7                    [128, 128, 16, 16]        --\n",
      "├─Sequential: 1-3                        [128, 128, 16, 16]        --\n",
      "│    └─Sequential: 2-8                   [128, 128, 16, 16]        --\n",
      "│    │    └─Conv2d: 3-1                  [128, 128, 16, 16]        147,584\n",
      "│    │    └─BatchNorm2d: 3-2             [128, 128, 16, 16]        256\n",
      "│    │    └─ReLU: 3-3                    [128, 128, 16, 16]        --\n",
      "│    └─Sequential: 2-9                   [128, 128, 16, 16]        --\n",
      "│    │    └─Conv2d: 3-4                  [128, 128, 16, 16]        147,584\n",
      "│    │    └─BatchNorm2d: 3-5             [128, 128, 16, 16]        256\n",
      "│    │    └─ReLU: 3-6                    [128, 128, 16, 16]        --\n",
      "├─Sequential: 1-4                        [128, 256, 8, 8]          --\n",
      "│    └─Conv2d: 2-10                      [128, 256, 16, 16]        295,168\n",
      "│    └─BatchNorm2d: 2-11                 [128, 256, 16, 16]        512\n",
      "│    └─ReLU: 2-12                        [128, 256, 16, 16]        --\n",
      "│    └─MaxPool2d: 2-13                   [128, 256, 8, 8]          --\n",
      "├─Sequential: 1-5                        [128, 512, 4, 4]          --\n",
      "│    └─Conv2d: 2-14                      [128, 512, 8, 8]          1,180,160\n",
      "│    └─BatchNorm2d: 2-15                 [128, 512, 8, 8]          1,024\n",
      "│    └─ReLU: 2-16                        [128, 512, 8, 8]          --\n",
      "│    └─MaxPool2d: 2-17                   [128, 512, 4, 4]          --\n",
      "├─Sequential: 1-6                        [128, 512, 4, 4]          --\n",
      "│    └─Sequential: 2-18                  [128, 512, 4, 4]          --\n",
      "│    │    └─Conv2d: 3-7                  [128, 512, 4, 4]          2,359,808\n",
      "│    │    └─BatchNorm2d: 3-8             [128, 512, 4, 4]          1,024\n",
      "│    │    └─ReLU: 3-9                    [128, 512, 4, 4]          --\n",
      "│    └─Sequential: 2-19                  [128, 512, 4, 4]          --\n",
      "│    │    └─Conv2d: 3-10                 [128, 512, 4, 4]          2,359,808\n",
      "│    │    └─BatchNorm2d: 3-11            [128, 512, 4, 4]          1,024\n",
      "│    │    └─ReLU: 3-12                   [128, 512, 4, 4]          --\n",
      "├─Sequential: 1-7                        [128, 10]                 --\n",
      "│    └─MaxPool2d: 2-20                   [128, 512, 1, 1]          --\n",
      "│    └─Flatten: 2-21                     [128, 512]                --\n",
      "│    └─Linear: 2-22                      [128, 10]                 5,130\n",
      "==========================================================================================\n",
      "Total params: 6,575,370\n",
      "Trainable params: 6,575,370\n",
      "Non-trainable params: 0\n",
      "Total mult-adds (G): 48.59\n",
      "==========================================================================================\n",
      "Input size (MB): 1.57\n",
      "Forward/backward pass size (MB): 771.76\n",
      "Params size (MB): 26.30\n",
      "Estimated Total Size (MB): 799.64\n",
      "==========================================================================================\n",
      "Using 4 GPUs\n"
     ]
    }
   ],
   "source": [
    "model = Model()\n",
    "\n",
    "try:\n",
    "    print(torchinfo.summary(model, input_size=(batch_size, 3, 32, 32)))\n",
    "except RuntimeError as a:\n",
    "    print(a)\n",
    "\n",
    "if torch.cuda.device_count() > 1:\n",
    "    print(\"Using\", torch.cuda.device_count(), \"GPUs\")\n",
    "    model = nn.DataParallel(model)\n",
    "\n",
    "model.to(device)\n",
    "\n",
    "\n",
    "criterion = nn.CrossEntropyLoss()\n",
    "from torch.optim.lr_scheduler import ReduceLROnPlateau\n",
    "optim = torch.optim.SGD(model.parameters(), lr=0.01, momentum=0.9)\n",
    "\n",
    "scheduler = ReduceLROnPlateau(optim, 'min')\n"
   ]
  },
  {
   "cell_type": "code",
   "execution_count": 5,
   "metadata": {},
   "outputs": [],
   "source": [
    "def train_step():\n",
    "    model.train()\n",
    "    running_loss = 0.\n",
    "    for images, labels in train_loader:\n",
    "        images = images.to(device)\n",
    "        labels = labels.to(device)\n",
    "\n",
    "        optim.zero_grad()\n",
    "\n",
    "        output = model(images)\n",
    "        loss = criterion(output, labels)\n",
    "        loss.backward()\n",
    "        optim.step()\n",
    "        running_loss += loss\n",
    "    with torch.no_grad():\n",
    "        train_loss = running_loss / len(train_loader)\n",
    "    return train_loss.item()\n",
    "\n",
    "\n",
    "def valid_step():\n",
    "    model.eval()\n",
    "    correct_total = 0\n",
    "    running_loss = 0\n",
    "    with torch.no_grad():\n",
    "        for images, labels in valid_loader:\n",
    "            images = images.to(device)\n",
    "            labels = labels.to(device)\n",
    "\n",
    "            output = model(images)\n",
    "            prediction = output.max(dim=1, keepdim=True)[1]\n",
    "            correct_total += prediction.eq(labels.view_as(prediction)).sum()\n",
    "            loss = criterion(output, labels)\n",
    "            running_loss += loss\n",
    "        valid_loss = running_loss / len(valid_loader)\n",
    "        accuracy = correct_total / len(valid_sampler)\n",
    "        return valid_loss.item(), accuracy.item()\n",
    "\n",
    "\n",
    "train_losses = []\n",
    "valid_losses = []\n",
    "valid_accs = []\n"
   ]
  },
  {
   "cell_type": "code",
   "execution_count": 6,
   "metadata": {},
   "outputs": [
    {
     "name": "stderr",
     "output_type": "stream",
     "text": [
      "[0] Acc: 0.3638  Avg. train/valid loss: 2.7597/1.9217\n",
      "[0] Acc: 0.3638  Avg. train/valid loss: 2.7597/1.9217\n",
      "[1] Acc: 0.5646  Avg. train/valid loss: 1.5691/1.2261\n",
      "[1] Acc: 0.5646  Avg. train/valid loss: 1.5691/1.2261\n",
      "[2] Acc: 0.6126  Avg. train/valid loss: 1.2102/1.2027\n",
      "[2] Acc: 0.6126  Avg. train/valid loss: 1.2102/1.2027\n",
      "[3] Acc: 0.6498  Avg. train/valid loss: 0.9963/0.9824\n",
      "[3] Acc: 0.6498  Avg. train/valid loss: 0.9963/0.9824\n",
      "[4] Acc: 0.7240  Avg. train/valid loss: 0.8289/0.8590\n",
      "[4] Acc: 0.7240  Avg. train/valid loss: 0.8289/0.8590\n",
      ":  14%|█▍        | 5/35 [01:07<06:23, 12.80s/it]"
     ]
    },
    {
     "name": "stdout",
     "output_type": "stream",
     "text": [
      "Saved loss with acc: 0.7239999771118164 | loss: 0.8589808940887451\n"
     ]
    },
    {
     "name": "stderr",
     "output_type": "stream",
     "text": [
      "[5] Acc: 0.7304  Avg. train/valid loss: 0.7310/0.8159\n",
      "[5] Acc: 0.7304  Avg. train/valid loss: 0.7310/0.8159\n",
      ":  17%|█▋        | 6/35 [01:19<06:03, 12.52s/it]"
     ]
    },
    {
     "name": "stdout",
     "output_type": "stream",
     "text": [
      "Saved loss with acc: 0.7303999662399292 | loss: 0.8159216642379761\n"
     ]
    },
    {
     "name": "stderr",
     "output_type": "stream",
     "text": [
      "[6] Acc: 0.7344  Avg. train/valid loss: 0.6591/0.8620\n",
      "[6] Acc: 0.7344  Avg. train/valid loss: 0.6591/0.8620\n",
      "[7] Acc: 0.7797  Avg. train/valid loss: 0.6164/0.7181\n",
      "[7] Acc: 0.7797  Avg. train/valid loss: 0.6164/0.7181\n",
      ":  23%|██▎       | 8/35 [01:44<05:34, 12.39s/it]"
     ]
    },
    {
     "name": "stdout",
     "output_type": "stream",
     "text": [
      "Saved loss with acc: 0.779699981212616 | loss: 0.7180628180503845\n"
     ]
    },
    {
     "name": "stderr",
     "output_type": "stream",
     "text": [
      "[8] Acc: 0.7857  Avg. train/valid loss: 0.5569/0.7122\n",
      "[8] Acc: 0.7857  Avg. train/valid loss: 0.5569/0.7122\n",
      ":  26%|██▌       | 9/35 [01:56<05:21, 12.36s/it]"
     ]
    },
    {
     "name": "stdout",
     "output_type": "stream",
     "text": [
      "Saved loss with acc: 0.7856999635696411 | loss: 0.71222984790802\n"
     ]
    },
    {
     "name": "stderr",
     "output_type": "stream",
     "text": [
      "[9] Acc: 0.8258  Avg. train/valid loss: 0.5114/0.5185\n",
      "[9] Acc: 0.8258  Avg. train/valid loss: 0.5114/0.5185\n",
      ":  29%|██▊       | 10/35 [02:09<05:09, 12.39s/it]"
     ]
    },
    {
     "name": "stdout",
     "output_type": "stream",
     "text": [
      "Saved loss with acc: 0.8258000016212463 | loss: 0.5185104012489319\n"
     ]
    },
    {
     "name": "stderr",
     "output_type": "stream",
     "text": [
      "[10] Acc: 0.8252  Avg. train/valid loss: 0.4659/0.5346\n",
      "[10] Acc: 0.8252  Avg. train/valid loss: 0.4659/0.5346\n",
      "[11] Acc: 0.8208  Avg. train/valid loss: 0.4410/0.5385\n",
      "[11] Acc: 0.8208  Avg. train/valid loss: 0.4410/0.5385\n",
      "[12] Acc: 0.8113  Avg. train/valid loss: 0.4078/0.5825\n",
      "[12] Acc: 0.8113  Avg. train/valid loss: 0.4078/0.5825\n",
      "[13] Acc: 0.8342  Avg. train/valid loss: 0.3652/0.5145\n",
      "[13] Acc: 0.8342  Avg. train/valid loss: 0.3652/0.5145\n",
      ":  40%|████      | 14/35 [02:58<04:20, 12.38s/it]"
     ]
    },
    {
     "name": "stdout",
     "output_type": "stream",
     "text": [
      "Saved loss with acc: 0.8341999650001526 | loss: 0.5145339369773865\n"
     ]
    },
    {
     "name": "stderr",
     "output_type": "stream",
     "text": [
      "[14] Acc: 0.8548  Avg. train/valid loss: 0.3550/0.4509\n",
      "[14] Acc: 0.8548  Avg. train/valid loss: 0.3550/0.4509\n",
      ":  43%|████▎     | 15/35 [03:11<04:07, 12.38s/it]"
     ]
    },
    {
     "name": "stdout",
     "output_type": "stream",
     "text": [
      "Saved loss with acc: 0.8547999858856201 | loss: 0.45087313652038574\n"
     ]
    },
    {
     "name": "stderr",
     "output_type": "stream",
     "text": [
      "[15] Acc: 0.8699  Avg. train/valid loss: 0.3357/0.4167\n",
      "[15] Acc: 0.8699  Avg. train/valid loss: 0.3357/0.4167\n",
      ":  46%|████▌     | 16/35 [03:23<03:54, 12.35s/it]"
     ]
    },
    {
     "name": "stdout",
     "output_type": "stream",
     "text": [
      "Saved loss with acc: 0.8698999881744385 | loss: 0.41667118668556213\n"
     ]
    },
    {
     "name": "stderr",
     "output_type": "stream",
     "text": [
      "[16] Acc: 0.8424  Avg. train/valid loss: 0.3199/0.5057\n",
      "[16] Acc: 0.8424  Avg. train/valid loss: 0.3199/0.5057\n",
      "[17] Acc: 0.8672  Avg. train/valid loss: 0.2977/0.4108\n",
      "[17] Acc: 0.8672  Avg. train/valid loss: 0.2977/0.4108\n",
      ":  51%|█████▏    | 18/35 [03:49<03:34, 12.63s/it]"
     ]
    },
    {
     "name": "stdout",
     "output_type": "stream",
     "text": [
      "Saved loss with acc: 0.8671999573707581 | loss: 0.41076961159706116\n"
     ]
    },
    {
     "name": "stderr",
     "output_type": "stream",
     "text": [
      "[18] Acc: 0.8568  Avg. train/valid loss: 0.2794/0.4414\n",
      "[18] Acc: 0.8568  Avg. train/valid loss: 0.2794/0.4414\n",
      "[19] Acc: 0.8550  Avg. train/valid loss: 0.2607/0.4776\n",
      "[19] Acc: 0.8550  Avg. train/valid loss: 0.2607/0.4776\n",
      "[20] Acc: 0.8737  Avg. train/valid loss: 0.2575/0.4236\n",
      "[20] Acc: 0.8737  Avg. train/valid loss: 0.2575/0.4236\n",
      "[21] Acc: 0.8695  Avg. train/valid loss: 0.2275/0.4266\n",
      "[21] Acc: 0.8695  Avg. train/valid loss: 0.2275/0.4266\n",
      "[22] Acc: 0.8607  Avg. train/valid loss: 0.2151/0.5030\n",
      "[22] Acc: 0.8607  Avg. train/valid loss: 0.2151/0.5030\n",
      "[23] Acc: 0.8709  Avg. train/valid loss: 0.2171/0.4128\n",
      "[23] Acc: 0.8709  Avg. train/valid loss: 0.2171/0.4128\n",
      "[24] Acc: 0.8686  Avg. train/valid loss: 0.1989/0.4446\n",
      "[24] Acc: 0.8686  Avg. train/valid loss: 0.1989/0.4446\n",
      "[25] Acc: 0.8816  Avg. train/valid loss: 0.1856/0.3983\n",
      "[25] Acc: 0.8816  Avg. train/valid loss: 0.1856/0.3983\n",
      ":  74%|███████▍  | 26/35 [05:39<01:58, 13.15s/it]"
     ]
    },
    {
     "name": "stdout",
     "output_type": "stream",
     "text": [
      "Saved loss with acc: 0.8815999627113342 | loss: 0.3982512056827545\n"
     ]
    },
    {
     "name": "stderr",
     "output_type": "stream",
     "text": [
      "[26] Acc: 0.8876  Avg. train/valid loss: 0.1707/0.3821\n",
      "[26] Acc: 0.8876  Avg. train/valid loss: 0.1707/0.3821\n",
      ":  77%|███████▋  | 27/35 [05:51<01:43, 12.90s/it]"
     ]
    },
    {
     "name": "stdout",
     "output_type": "stream",
     "text": [
      "Saved loss with acc: 0.8876000046730042 | loss: 0.3821395933628082\n"
     ]
    },
    {
     "name": "stderr",
     "output_type": "stream",
     "text": [
      "[27] Acc: 0.8770  Avg. train/valid loss: 0.1778/0.4201\n",
      "[27] Acc: 0.8770  Avg. train/valid loss: 0.1778/0.4201\n",
      "[28] Acc: 0.8880  Avg. train/valid loss: 0.1641/0.3851\n",
      "[28] Acc: 0.8880  Avg. train/valid loss: 0.1641/0.3851\n",
      "[29] Acc: 0.8856  Avg. train/valid loss: 0.1587/0.3995\n",
      "[29] Acc: 0.8856  Avg. train/valid loss: 0.1587/0.3995\n",
      "[30] Acc: 0.8868  Avg. train/valid loss: 0.1441/0.3933\n",
      "[30] Acc: 0.8868  Avg. train/valid loss: 0.1441/0.3933\n",
      "[31] Acc: 0.8767  Avg. train/valid loss: 0.1408/0.4486\n",
      "[31] Acc: 0.8767  Avg. train/valid loss: 0.1408/0.4486\n",
      "[32] Acc: 0.8921  Avg. train/valid loss: 0.1214/0.3857\n",
      "[32] Acc: 0.8921  Avg. train/valid loss: 0.1214/0.3857\n",
      "[33] Acc: 0.8842  Avg. train/valid loss: 0.1230/0.4259\n",
      "[33] Acc: 0.8842  Avg. train/valid loss: 0.1230/0.4259\n",
      "[34] Acc: 0.8837  Avg. train/valid loss: 0.1073/0.4332\n",
      "[34] Acc: 0.8837  Avg. train/valid loss: 0.1073/0.4332\n",
      "[34] Acc: 0.8837  Avg. train/valid loss: 0.1073/0.4332\n",
      ": 100%|██████████| 35/35 [07:30<00:00, 12.88s/it]\n"
     ]
    }
   ],
   "source": [
    "from tqdm import tqdm\n",
    "\n",
    "best_loss = 10000\n",
    "\n",
    "for epoch in (pbar := tqdm(range(epochs))):\n",
    "    train_loss = train_step()\n",
    "    valid_loss, valid_acc = valid_step()\n",
    "    scheduler.step(valid_loss)\n",
    "\n",
    "    if valid_loss < best_loss and  epoch > 3:\n",
    "        best_loss = valid_loss\n",
    "        print(f\"Saved loss with acc: {valid_acc} | loss: {valid_loss}\")\n",
    "        torch.save(model.state_dict(), f\"./cifar_temp{epoch}.pth\")\n",
    "\n",
    "    train_losses.append(train_loss)\n",
    "    valid_losses.append(valid_loss)\n",
    "    valid_accs.append(valid_acc)\n",
    "\n",
    "    pbar.set_description(\n",
    "        f'[{epoch}] Acc: {valid_acc:.4f}  Avg. train/valid loss: {train_loss:.4f}/{valid_loss:.4f}\\n')\n",
    "\n",
    "\n",
    "PATH = './cifar_net.pth'\n",
    "torch.save(model.state_dict(), PATH)\n"
   ]
  },
  {
   "cell_type": "code",
   "execution_count": 7,
   "metadata": {},
   "outputs": [
    {
     "data": {
      "text/plain": [
       "Text(0, 0.5, 'Loss')"
      ]
     },
     "execution_count": 7,
     "metadata": {},
     "output_type": "execute_result"
    },
    {
     "data": {
      "image/png": "[encoded data removed]",
      "text/plain": [
       "<Figure size 600x400 with 1 Axes>"
      ]
     },
     "metadata": {},
     "output_type": "display_data"
    }
   ],
   "source": [
    "import matplotlib.pyplot as plt\n",
    "\n",
    "fig = plt.figure(figsize=(6, 4))\n",
    "\n",
    "plt.plot(train_losses, label='train')\n",
    "plt.plot(valid_losses, label='valid')\n",
    "plt.legend()\n",
    "plt.xlabel('Iterations')\n",
    "plt.ylabel('Loss')\n"
   ]
  },
  {
   "cell_type": "code",
   "execution_count": 8,
   "metadata": {},
   "outputs": [
    {
     "data": {
      "text/plain": [
       "Text(0, 0.5, 'Accuracy')"
      ]
     },
     "execution_count": 8,
     "metadata": {},
     "output_type": "execute_result"
    },
    {
     "data": {
      "image/png": "[encoded data removed]",
      "text/plain": [
       "<Figure size 600x400 with 1 Axes>"
      ]
     },
     "metadata": {},
     "output_type": "display_data"
    }
   ],
   "source": [
    "fig = plt.figure(figsize=(6, 4))\n",
    "\n",
    "plt.plot(valid_accs)\n",
    "plt.yticks(np.arange(0.35, 1, 0.05))\n",
    "plt.grid()\n",
    "plt.xlabel('Iterations')\n",
    "plt.ylabel('Accuracy')\n"
   ]
  },
  {
   "cell_type": "code",
   "execution_count": 17,
   "metadata": {},
   "outputs": [
    {
     "name": "stdout",
     "output_type": "stream",
     "text": [
      "airplane     89.80 %\n",
      "automobile   95.30 %\n",
      "bird         87.30 %\n",
      "cat          80.70 %\n",
      "deer         91.20 %\n",
      "dog          81.10 %\n",
      "frog         92.50 %\n",
      "horse        88.50 %\n",
      "ship         95.80 %\n",
      "truck        90.90 %\n"
     ]
    }
   ],
   "source": [
    "model = nn.DataParallel(Model())\n",
    "model.load_state_dict(torch.load(\"cifar_temp26.pth\"))\n",
    "model.to(device)\n",
    "\n",
    "def test_accuracy_per_class(model, testloader):\n",
    "    correct_pred = {classname: 0 for classname in train_set.classes}\n",
    "    total_pred = {classname: 0 for classname in train_set.classes}\n",
    "\n",
    "    with torch.no_grad():\n",
    "        model.eval()\n",
    "        for images, labels in testloader:\n",
    "            images = images.to(device)\n",
    "            labels = labels.to(device)\n",
    "\n",
    "            outputs = model(images)\n",
    "            predicted = torch.max(outputs.data, 1)[1]\n",
    "\n",
    "            for label, prediction in zip(labels, predicted):\n",
    "                if label == prediction:\n",
    "                    correct_pred[train_set.classes[label]] += 1\n",
    "                total_pred[train_set.classes[label]] += 1\n",
    "    \n",
    "    accuracy_per_class = {classname: 0 for classname in train_set.classes}\n",
    "    for classname, correct_count in correct_pred.items():\n",
    "        accuracy = (100 * float(correct_count)) / total_pred[classname]\n",
    "        accuracy_per_class[classname] = accuracy\n",
    "\n",
    "    return accuracy_per_class\n",
    "\n",
    "for classname, accuracy in test_accuracy_per_class(model, test_loader).items():\n",
    "    print(f'{classname:12s} {accuracy:.2f} %')\n",
    "\n",
    "\n"
   ]
  }
 ],
 "metadata": {
  "kernelspec": {
   "display_name": "AIenv",
   "language": "python",
   "name": "python3"
  },
  "language_info": {
   "codemirror_mode": {
    "name": "ipython",
    "version": 3
   },
   "file_extension": ".py",
   "mimetype": "text/x-python",
   "name": "python",
   "nbconvert_exporter": "python",
   "pygments_lexer": "ipython3",
   "version": "3.10.2"
  },
  "orig_nbformat": 4
 },
 "nbformat": 4,
 "nbformat_minor": 2
}
