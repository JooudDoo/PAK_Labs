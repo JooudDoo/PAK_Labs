{
 "cells": [
  {
   "cell_type": "code",
   "execution_count": null,
   "metadata": {},
   "outputs": [],
   "source": [
    "import numpy as np\n",
    "ALIGMENT = 50"
   ]
  },
  {
   "cell_type": "code",
   "execution_count": null,
   "metadata": {},
   "outputs": [],
   "source": [
    "print(\"TASK 1\".center(ALIGMENT))\n",
    "arr = np.random.randint(low=0, high=10, size=30)\n",
    "print(*arr)\n",
    "arr, counts = np.unique(arr, return_counts=True)\n",
    "arr = sorted(zip(counts, arr), reverse=True)\n",
    "print(*[x for _,x in arr])"
   ]
  },
  {
   "cell_type": "code",
   "execution_count": 52,
   "metadata": {},
   "outputs": [
    {
     "name": "stdout",
     "output_type": "stream",
     "text": [
      "                      TASK 2                      \n",
      "Уникальных значений: 62390\n"
     ]
    }
   ],
   "source": [
    "print(\"TASK 2\".center(ALIGMENT))\n",
    "h, w = 250,250\n",
    "img = np.random.randint(low=0, high=256, dtype=np.uint8, size=(h,w,3))\n",
    "img_new = np.vstack(img)\n",
    "print(f\"Уникальных значений: {len(np.unique(img_new, axis=0))}\")"
   ]
  },
  {
   "cell_type": "code",
   "execution_count": 53,
   "metadata": {},
   "outputs": [
    {
     "name": "stdout",
     "output_type": "stream",
     "text": [
      "62390\n"
     ]
    }
   ],
   "source": [
    "import cv2\n",
    "color_image = img\n",
    "b = color_image.reshape(color_image.shape[0]*color_image.shape[1], 3)\n",
    "print(len(np.unique(b, axis=0)))"
   ]
  },
  {
   "cell_type": "code",
   "execution_count": null,
   "metadata": {},
   "outputs": [],
   "source": [
    "print(\"TASK 3\".center(ALIGMENT))\n",
    "\n",
    "def average_float_vector(win_size, arr):\n",
    "    res = []\n",
    "    for i in range(0, len(arr)-win_size):\n",
    "        res.append(arr[i:i+win_size].sum()/3)\n",
    "    return res\n",
    "    \n",
    "win_size = 3\n",
    "arr = np.random.randint(low=0, high=10, size=30)\n",
    "print(arr)\n",
    "print(average_float_vector(win_size, arr))"
   ]
  },
  {
   "cell_type": "code",
   "execution_count": null,
   "metadata": {},
   "outputs": [],
   "source": [
    "print(\"TASK 4\".center(ALIGMENT))\n",
    "\n",
    "def is_triang(arr):\n",
    "    return sum(arr) - 2 * max(arr) > 0\n",
    "\n",
    "n = int(input())\n",
    "arr = np.random.randint(low=0, high=256, size=(n, 3))\n",
    "triangs = zip(arr, np.apply_along_axis(is_triang, 1, arr))\n",
    "print(*[f\"{sides} -- {isTriang}\\n\" for sides, isTriang in triangs if isTriang])"
   ]
  }
 ],
 "metadata": {
  "kernelspec": {
   "display_name": "Python 3.10.2 64-bit",
   "language": "python",
   "name": "python3"
  },
  "language_info": {
   "codemirror_mode": {
    "name": "ipython",
    "version": 3
   },
   "file_extension": ".py",
   "mimetype": "text/x-python",
   "name": "python",
   "nbconvert_exporter": "python",
   "pygments_lexer": "ipython3",
   "version": "3.10.2"
  },
  "orig_nbformat": 4,
  "vscode": {
   "interpreter": {
    "hash": "2cf155f076a73359a1298dc0a00f49ef22b916380873db02a1df5c4bdf885702"
   }
  }
 },
 "nbformat": 4,
 "nbformat_minor": 2
}
